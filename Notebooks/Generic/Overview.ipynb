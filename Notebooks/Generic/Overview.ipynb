{
 "cells": [
  {
   "cell_type": "markdown",
   "metadata": {},
   "source": [
    "Generic configuration, assumes that all metaclasses are already imported"
   ]
  },
  {
   "cell_type": "code",
   "execution_count": null,
   "metadata": {
    "code_folding": []
   },
   "outputs": [],
   "source": [
    "conf = dict()\n",
    "metaclasses = [eval(s) for s in conf.pop('metaclasses')]\n",
    "name = str()\n",
    "\n",
    "conf = Hub.parse_config(conf) # Questa trasforma le keyword Hub e \"commons\"\n",
    "\n",
    "for i in metaclasses:\n",
    "    conf = i.parse_config(conf)\n",
    "\n",
    "def convert_sources(conf):\n",
    "    if type(conf)==list:\n",
    "        return [convert_sources(i) for i in conf]\n",
    "    elif type(conf) == dict:\n",
    "        n_conf = dict()\n",
    "        for k, v in conf.items():\n",
    "            if k == 'source':\n",
    "                n_conf[k]=source_parse(v)\n",
    "            else:\n",
    "                n_conf[k]=convert_sources(v)\n",
    "    else:\n",
    "        return conf"
   ]
  },
  {
   "cell_type": "markdown",
   "metadata": {},
   "source": [
    "A questo punto tutte le sources sono diventate funzioni"
   ]
  },
  {
   "cell_type": "code",
   "execution_count": null,
   "metadata": {},
   "outputs": [],
   "source": [
    "metaclasses.append(wrapper) # metaclasse che \"pulisce\" il tutto"
   ]
  },
  {
   "cell_type": "code",
   "execution_count": null,
   "metadata": {},
   "outputs": [],
   "source": [
    "meta_comb = type(\"combined\", tuple(metaclasses),{})\n",
    "Hub.set_class(name, meta_comb(name, (), {}, **conf))"
   ]
  },
  {
   "cell_type": "markdown",
   "metadata": {},
   "source": [
    "Questi passaggi devono essere ripetuti per ogni file di configurazione delle metaclassi"
   ]
  },
  {
   "cell_type": "markdown",
   "metadata": {},
   "source": [
    "Poi si passa ai file di instanza, per ogni classe c'è una cartella, nella cartella ci sono n\n",
    "file yaml\n",
    "\n",
    "Per ogni file yaml creo una classe con nome il nome del file, classe il nome della cartella\n",
    "e \\*\\*kwargs il file yaml"
   ]
  },
  {
   "cell_type": "code",
   "execution_count": null,
   "metadata": {},
   "outputs": [],
   "source": []
  },
  {
   "cell_type": "code",
   "execution_count": null,
   "metadata": {},
   "outputs": [],
   "source": []
  },
  {
   "cell_type": "code",
   "execution_count": null,
   "metadata": {},
   "outputs": [],
   "source": []
  },
  {
   "cell_type": "code",
   "execution_count": null,
   "metadata": {},
   "outputs": [],
   "source": []
  },
  {
   "cell_type": "code",
   "execution_count": null,
   "metadata": {},
   "outputs": [],
   "source": []
  },
  {
   "cell_type": "code",
   "execution_count": null,
   "metadata": {},
   "outputs": [],
   "source": []
  },
  {
   "cell_type": "code",
   "execution_count": null,
   "metadata": {},
   "outputs": [],
   "source": []
  },
  {
   "cell_type": "code",
   "execution_count": null,
   "metadata": {},
   "outputs": [],
   "source": []
  },
  {
   "cell_type": "code",
   "execution_count": null,
   "metadata": {},
   "outputs": [],
   "source": []
  },
  {
   "cell_type": "code",
   "execution_count": null,
   "metadata": {},
   "outputs": [],
   "source": []
  }
 ],
 "metadata": {
  "kernelspec": {
   "display_name": "Python 3",
   "language": "python",
   "name": "python3"
  },
  "language_info": {
   "codemirror_mode": {
    "name": "ipython",
    "version": 3
   },
   "file_extension": ".py",
   "mimetype": "text/x-python",
   "name": "python",
   "nbconvert_exporter": "python",
   "pygments_lexer": "ipython3",
   "version": "3.8.1"
  }
 },
 "nbformat": 4,
 "nbformat_minor": 2
}
