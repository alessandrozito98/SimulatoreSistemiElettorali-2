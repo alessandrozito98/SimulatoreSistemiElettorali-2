{
 "cells": [
  {
   "cell_type": "markdown",
   "metadata": {},
   "source": [
    "Often I need to generate arguments or local variables through function calls, here is the parser"
   ]
  },
  {
   "cell_type": "markdown",
   "metadata": {},
   "source": [
    "```\n",
    "<SOURCE> := 'source :' ( <ATT_SOURCE> | <FUN_SOURCE> | <RAW> )\n",
    "<RAW> := <str>|<int>|<float>\n",
    "<ATT_SOURCE> := '{'\n",
    "                '}'\n",
    "<FUN_SOURCE> := '{' \n",
    "                'type: fun',\n",
    "                'fun': str\n",
    "                ('args:' <ARG_LIST>,)?\n",
    "                ('kwargs:' <KWARG_LIST>,)?\n",
    "                ('rename:' Dict[str, str],)?\n",
    "                ('options:' (NoForward|)+)?\n",
    "                ('store:' ('#':str | '$':str | str)? \n",
    "                '}' \n",
    "```"
   ]
  },
  {
   "cell_type": "markdown",
   "metadata": {},
   "source": [
    "Reserved keywords are:\n",
    "+ name\n",
    "+ args\n",
    "+ kwargs\n",
    "+ rename\n",
    "+ options\n",
    "+ type"
   ]
  },
  {
   "cell_type": "code",
   "execution_count": 6,
   "metadata": {},
   "outputs": [],
   "source": [
    "def function_arg_parser(source_parser, name, args=[], \n",
    "                        kwargs={}, rename=None, \n",
    "                        options=None, **other_confs):\n",
    "    \"\"\"\n",
    "    Parses the function, returns a function that requires:\n",
    "    + local namespace\n",
    "    + *args\n",
    "    + **kwargs\n",
    "    \n",
    "    And returns the value\n",
    "    \"\"\"\n",
    "    fun = name\n",
    "    args = [source_parser(i) for i in args]\n",
    "    kwargs = {k: source_parser(v) for k, v in kwargs.items()}\n",
    "    \n",
    "    def return_fun(local, *n_args, **n_kwargs):\n",
    "        eff_args = [i(local, *n_args, **n_kwargs) for i in args]\n",
    "        eff_kwargs = {k: v(local, *n_args, **n_kwargs) for k,v in kwargs.items()}\n",
    "        \n",
    "        eff_args.extend(list(n_args))\n",
    "        eff_kwargs.update(n_kwargs)\n",
    "        \n",
    "        globs = globals()\n",
    "        f = eval(fun, globs, local)\n",
    "        \n",
    "        return f(*eff_args, **eff_kwargs)\n",
    "    return return_fun"
   ]
  },
  {
   "cell_type": "code",
   "execution_count": 7,
   "metadata": {},
   "outputs": [],
   "source": [
    "def attribute_arg_parser(source_parser, name, **other_confs):\n",
    "    \"\"\"\n",
    "    Returns a function accepting a namespace, *args and **kwargs, ignores the ?args and \n",
    "    returns the value\n",
    "    \"\"\"\n",
    "    def return_fun(local, *args, **kwargs):\n",
    "        return eval(name, globals(), local)\n",
    "    \n",
    "    return return_fun"
   ]
  },
  {
   "cell_type": "code",
   "execution_count": 8,
   "metadata": {},
   "outputs": [],
   "source": [
    "def kwarg_arg_parser(source_parser, name, dic_name=\"kwargs\", **other_confs):\n",
    "    def return_fun(local, *args, **kwargs):\n",
    "        return eval(dic_name, globals(), local)[name]\n",
    "    return return_fun"
   ]
  },
  {
   "cell_type": "code",
   "execution_count": 9,
   "metadata": {},
   "outputs": [],
   "source": [
    "def source_parse(configuration):\n",
    "    if type(configuration) != dict:\n",
    "        def simple_res(*args, **kwargs):\n",
    "            return configuration\n",
    "        return simple_res\n",
    "    \n",
    "    t = configuration['type']\n",
    "    if t == 'fun':\n",
    "        parsed = function_arg_parser(source_parse, **configuration)\n",
    "    elif t == 'att':\n",
    "        parsed = attribute_arg_parser(source_parse, **configuration)\n",
    "    elif t == 'kwarg':\n",
    "        parsed = kwarg_arg_parser(source_parse, **configuration)\n",
    "    else: \n",
    "        raise AttributeError('Neither function nor attribute')\n",
    "    \n",
    "    store_action = configuration.get('store', None)\n",
    "    rename = configuration.get('rename', None)\n",
    "    options = configuration.get('options', [])\n",
    "    \n",
    "    def function_returned(local, *args, **kwargs):\n",
    "        if 'NoForward' in options:\n",
    "            args = []\n",
    "            kwargs = {}\n",
    "        r = parsed(local, *args, **kwargs)\n",
    "        \n",
    "        if rename is not None:\n",
    "            r = r.rename(columns=rename)\n",
    "        if store_action is None:\n",
    "            pass\n",
    "        elif store_action[0] == '#':\n",
    "            setattr(locs['self'], store_action[1:], r)\n",
    "        elif store_action[0] == '$':\n",
    "            d, k = tuple(store_action[1:].split('.')[:2])\n",
    "            local[d][k]=r\n",
    "        else:\n",
    "            locs[store_action]=r\n",
    "        return r\n",
    "    \n",
    "    return function_returned\n",
    "    "
   ]
  },
  {
   "cell_type": "code",
   "execution_count": 10,
   "metadata": {},
   "outputs": [],
   "source": [
    "def test(*args, **kwargs):\n",
    "    print(args, kwargs)\n",
    "\n",
    "def test_vuoto():\n",
    "    print(\"test vuoto\")\n",
    "    return 20\n",
    "    \n",
    "ciao = 1\n",
    "\n",
    "conf = {'args': [10, {'name': 'ciao', 'type': 'att'}],\n",
    " 'kwargs': {'a': {'name': 'test_vuoto', 'options': 'NoForward', 'type': 'fun'}},\n",
    " 'name': 'test',\n",
    " 'type': 'fun'}"
   ]
  },
  {
   "cell_type": "code",
   "execution_count": 11,
   "metadata": {},
   "outputs": [],
   "source": [
    "f = source_parse(conf)"
   ]
  },
  {
   "cell_type": "code",
   "execution_count": 12,
   "metadata": {},
   "outputs": [
    {
     "name": "stdout",
     "output_type": "stream",
     "text": [
      "test vuoto\n",
      "(10, 1, 2, 'ciao') {'a': 2, 'b': 20}\n"
     ]
    }
   ],
   "source": [
    "f(locals(), 2, \"ciao\", b=20, a=2)"
   ]
  }
 ],
 "metadata": {
  "kernelspec": {
   "display_name": "Python 3",
   "language": "python",
   "name": "python3"
  },
  "language_info": {
   "codemirror_mode": {
    "name": "ipython",
    "version": 3
   },
   "file_extension": ".py",
   "mimetype": "text/x-python",
   "name": "python",
   "nbconvert_exporter": "python",
   "pygments_lexer": "ipython3",
   "version": "3.8.1"
  }
 },
 "nbformat": 4,
 "nbformat_minor": 2
}
