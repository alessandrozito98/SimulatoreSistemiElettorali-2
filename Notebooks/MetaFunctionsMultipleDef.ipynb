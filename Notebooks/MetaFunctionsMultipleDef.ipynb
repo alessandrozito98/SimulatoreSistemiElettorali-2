{
 "cells": [
  {
   "cell_type": "code",
   "execution_count": 1,
   "metadata": {},
   "outputs": [],
   "source": [
    "from functools import partial\n",
    "import itertools"
   ]
  },
  {
   "cell_type": "code",
   "execution_count": 2,
   "metadata": {},
   "outputs": [],
   "source": [
    "class Meta1(type):\n",
    "    def __new__(mcs, *args, possibles1, **kwargs):\n",
    "        print(\"met1\",mcs, args, kwargs)\n",
    "        \n",
    "        # ----------------------- func\n",
    "        # > Create a default\n",
    "        old_f = args[2].get('func', lambda *s, **k: None)\n",
    "        \n",
    "        # > Create new\n",
    "        def func(self, t):\n",
    "            if t in possibles1:\n",
    "                return list(map(lambda x: t*x, getattr(self,\"aps\")))\n",
    "            else:\n",
    "                return old_f(self, t)\n",
    "        \n",
    "        # > Assign\n",
    "        args[2]['func'] = func\n",
    "        \n",
    "        # -----------------------\n",
    "        return super().__new__(mcs, *args, **kwargs)\n",
    "\n",
    "class Meta2(type):\n",
    "    def __new__(mcs, *args, possibles2, **kwargs):\n",
    "        print(\"met2\",mcs, args, kwargs)\n",
    "        \n",
    "        # ----------------------- func\n",
    "        # > Create a default\n",
    "        old_f = args[2].get('func', lambda *s, **k: None)\n",
    "        \n",
    "        # > Create new\n",
    "        def func(self, t):\n",
    "            if t in possibles2:\n",
    "                return list(map(lambda x: t+x, getattr(self,\"aps\")))\n",
    "            else:\n",
    "                return old_f(self, t)\n",
    "        \n",
    "        # > Assign\n",
    "        args[2]['func'] = func\n",
    "        \n",
    "        # ----------------------- \n",
    "        return super().__new__(mcs, *args, **kwargs)"
   ]
  },
  {
   "cell_type": "code",
   "execution_count": 3,
   "metadata": {},
   "outputs": [
    {
     "name": "stdout",
     "output_type": "stream",
     "text": [
      "met1 <class '__main__.comb'> ('mClass', (), {'__module__': '__main__', '__qualname__': 'mClass', '__init__': <function mClass.__init__ at 0x7f5a90c991f0>}) {'possibles2': [4, 5, 6]}\n",
      "met2 <class '__main__.comb'> ('mClass', (), {'__module__': '__main__', '__qualname__': 'mClass', '__init__': <function mClass.__init__ at 0x7f5a90c991f0>, 'func': <function Meta1.__new__.<locals>.func at 0x7f5a90c99820>}) {}\n"
     ]
    }
   ],
   "source": [
    "mMeta = type(\"comb\", (Meta1,Meta2),{})\n",
    "class mClass(metaclass = mMeta, possibles1=[1,2,3],possibles2=[4,5,6]):\n",
    "    def __init__(self, aps):\n",
    "        self.aps = aps"
   ]
  },
  {
   "cell_type": "code",
   "execution_count": 28,
   "metadata": {},
   "outputs": [
    {
     "data": {
      "text/plain": [
       "(__main__.comb, __main__.Meta1, __main__.Meta2, type, object)"
      ]
     },
     "execution_count": 28,
     "metadata": {},
     "output_type": "execute_result"
    }
   ],
   "source": [
    "a = type(mClass)\n",
    "a.__mro__"
   ]
  },
  {
   "cell_type": "code",
   "execution_count": 4,
   "metadata": {},
   "outputs": [],
   "source": [
    "class FuncList:\n",
    "    \"\"\"\n",
    "    Starts with a list of functions, on call it will apply the argument to the first function,\n",
    "    then the result to the second and so on\n",
    "    \"\"\"\n",
    "\n",
    "    def __init__(self, funcs):\n",
    "        self.functions = funcs\n",
    "\n",
    "    def __call__(self, val):\n",
    "        r = val\n",
    "        for i in self.functions:\n",
    "            r = i(r)\n",
    "        return r\n",
    "\n",
    "\n",
    "def gen_func(path): # var1.var2..\n",
    "    lis = []\n",
    "    for i,n in enumerate(path.split('.')):\n",
    "        lis.append(partial(lambda ns,ls: list(itertools.chain(*map(lambda t: getattr(t,ns,None),ls))),n))\n",
    "    return FuncList(lis)"
   ]
  },
  {
   "cell_type": "code",
   "execution_count": 5,
   "metadata": {},
   "outputs": [],
   "source": [
    "class retrieve(type):\n",
    "    def __new__(mcs, *args, direction, **kwargs):\n",
    "        # ----------------------- get_sub\n",
    "        # > Create a default\n",
    "        old_f = args[2].get('get_sub', lambda *s, **k: [])\n",
    "        \n",
    "        # > Setup\n",
    "        \n",
    "        diz_subs = dict()\n",
    "        for ln, path in direction.items():\n",
    "            diz_subs[ln] = gen_func(path)\n",
    "        \n",
    "        # > Create new\n",
    "        def func(self, t):\n",
    "            if t in diz_subs.keys():\n",
    "                return diz_subs[t]([self])\n",
    "            else:\n",
    "                return old_f(self, t)\n",
    "        \n",
    "        # > Assign\n",
    "        args[2]['get_sub'] = func\n",
    "        \n",
    "        # -------------------------\n",
    "        return super().__new__(mcs, *args, **kwargs)\n"
   ]
  },
  {
   "cell_type": "code",
   "execution_count": 6,
   "metadata": {},
   "outputs": [],
   "source": [
    "class C1(metaclass=retrieve, direction={'subs':\"subs.store.store\", 'down':\"down.store\"}):\n",
    "    def __init__(self, subs, down):\n",
    "        self.subs = subs\n",
    "        self.down = down\n",
    "\n",
    "class C3(metaclass=retrieve, direction={'sotto':\"sotto.store\"}):\n",
    "    def __init__(self, subs):\n",
    "        self.sotto = subs\n",
    "    \n",
    "class C2:\n",
    "    def __init__(self, a):\n",
    "        self.store = a"
   ]
  },
  {
   "cell_type": "code",
   "execution_count": 7,
   "metadata": {},
   "outputs": [],
   "source": [
    "c1 = C1([C2([C2([\"ciao\",\"cia\"])]),C2([C2([\"Mondo\", \"World\"])])],[C2([\"ciao\",\"cia\"]),C2([\"Mondo\", \"World\"])])\n",
    "c3 = C3([C2([\"Halo\"]),C2([\"Hola\"])])"
   ]
  },
  {
   "cell_type": "code",
   "execution_count": 8,
   "metadata": {},
   "outputs": [
    {
     "data": {
      "text/plain": [
       "['ciao', 'cia', 'Mondo', 'World']"
      ]
     },
     "execution_count": 8,
     "metadata": {},
     "output_type": "execute_result"
    }
   ],
   "source": [
    "c1.get_sub('down')"
   ]
  },
  {
   "cell_type": "code",
   "execution_count": 9,
   "metadata": {},
   "outputs": [
    {
     "data": {
      "text/plain": [
       "['Halo', 'Hola']"
      ]
     },
     "execution_count": 9,
     "metadata": {},
     "output_type": "execute_result"
    }
   ],
   "source": [
    "c3.get_sub('sotto')"
   ]
  },
  {
   "cell_type": "code",
   "execution_count": 15,
   "metadata": {},
   "outputs": [
    {
     "data": {
      "text/plain": [
       "False"
      ]
     },
     "execution_count": 15,
     "metadata": {},
     "output_type": "execute_result"
    }
   ],
   "source": [
    "issubclass(C1, retrieve)"
   ]
  },
  {
   "cell_type": "code",
   "execution_count": 22,
   "metadata": {},
   "outputs": [
    {
     "data": {
      "text/plain": [
       "(__main__.retrieve, type, object)"
      ]
     },
     "execution_count": 22,
     "metadata": {},
     "output_type": "execute_result"
    }
   ],
   "source": [
    "retrieve.__mro__"
   ]
  },
  {
   "cell_type": "code",
   "execution_count": null,
   "metadata": {},
   "outputs": [],
   "source": []
  }
 ],
 "metadata": {
  "kernelspec": {
   "display_name": "Python 3",
   "language": "python",
   "name": "python3"
  },
  "language_info": {
   "codemirror_mode": {
    "name": "ipython",
    "version": 3
   },
   "file_extension": ".py",
   "mimetype": "text/x-python",
   "name": "python",
   "nbconvert_exporter": "python",
   "pygments_lexer": "ipython3",
   "version": "3.8.1"
  }
 },
 "nbformat": 4,
 "nbformat_minor": 2
}
