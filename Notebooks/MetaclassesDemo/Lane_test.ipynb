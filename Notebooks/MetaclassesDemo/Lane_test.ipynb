{
 "cells": [
  {
   "cell_type": "code",
   "execution_count": 7,
   "metadata": {
    "pycharm": {
     "is_executing": false
    }
   },
   "outputs": [],
   "source": [
    "import sys\n",
    "sys.path.insert(1, '/home/lruffati/Documents/0.University/0.SistemiElettorali/')\n",
    "import src\n",
    "from src import Commons\n",
    "\n",
    "from src.Metaclasses import *\n",
    "import src.GlobalVars as GlobalVars\n",
    "import random\n",
    "import pandas as pd"
   ]
  },
  {
   "cell_type": "code",
   "execution_count": 8,
   "metadata": {
    "pycharm": {
     "is_executing": false
    }
   },
   "outputs": [],
   "source": [
    "class ExampleNode:\n",
    "    def __init__(self):\n",
    "        print(\"Created example: \", self)\n",
    "        \n",
    "    def propose(self, *a, **k):\n",
    "        return pd.DataFrame({'ac':['aa','ba'],'s':[1,2]}), {'polent1':{'gen_info': True}}"
   ]
  },
  {
   "cell_type": "code",
   "execution_count": 9,
   "metadata": {
    "pycharm": {
     "is_executing": false
    }
   },
   "outputs": [],
   "source": [
    "class ActualHub:\n",
    "    def get_subdivisions(self, name_subs, *args, **k):\n",
    "        print(\"Get subs: \", self, name_subs, args, k)\n",
    "        return [\"c1\", \"c2\"]\n",
    "    def get_instance(self, name_class, name_inst):\n",
    "        print(\"Get inst: \", self, name_class, name_inst)\n",
    "        return ExampleSubLvl(name_inst)\n",
    "\n",
    "class ExampleSelf:\n",
    "    def propose(self, *args, **kwargs):\n",
    "        print(\"Propose:\", self, args, kwargs)\n",
    "        return pd.DataFrame({'parts':['pa','pb','pc'],\n",
    "                            'seats': [5, 2, 3]}), {'pa':{'votiTot':50},\n",
    "                                                  'pb':{'votiTot':20},\n",
    "                                                  'pc':{'votiTot':30}}\n",
    "\n",
    "class ExampleSubLvl:\n",
    "    def __init__(self, i):\n",
    "        print(\"Create sublv: \", i, self)\n",
    "        self.id = i\n",
    "    def propose(self, *arg, **kw):\n",
    "        print(\"Propose:\", self.id, arg, kw)\n",
    "        if self.id == \"c1\":\n",
    "            return pd.DataFrame({'parts':['pa','pc'], 'seats':[3,1]}), {'pa':{'res':0},\n",
    "                                                                       'pb':{'res':5},\n",
    "                                                                       'pc':{'res':6}}\n",
    "        \n",
    "        if self.id == \"c2\":\n",
    "            return pd.DataFrame({'parts':['pa','pb','pc'], \n",
    "                                 'seats':[2,1,1]}), {'pa':{'res':0},\n",
    "                                                                       'pb':{'res':5},\n",
    "                                                                       'pc':{'res':4}}"
   ]
  },
  {
   "cell_type": "code",
   "execution_count": 10,
   "metadata": {
    "pycharm": {
     "is_executing": false
    }
   },
   "outputs": [],
   "source": [
    "def corr_eu(district, ideal, local_distr, local_infos, distr_infos, *gen_infos, **kw):\n",
    "    tot_from_loc = pd.concat(local_distr.values(), ignore_index=True)\n",
    "    tot_from_loc.columns = [\"party\", \"seats\"]\n",
    "    print(tot_from_loc)\n",
    "    tot_from_loc = tot_from_loc.groupby('party').agg('sum')\n",
    "    print(tot_from_loc)\n",
    "    from_subs_dict = tot_from_loc.to_dict('index')\n",
    "\n",
    "    ideal.columns = [\"party\", \"seats\"]\n",
    "    ideal_dict = ideal.set_index('party').to_dict('index')\n",
    "    \n",
    "    adjustments = {}\n",
    "    for k, d in ideal_dict.items():\n",
    "        adjustments[k] = d['seats'] - from_subs_dict[k]['seats']\n",
    "    \n",
    "    remainders_subs = {k:{} for k in adjustments.keys()}\n",
    "    for sub, sub_inf in local_infos.items():\n",
    "        for k in adjustments.keys():\n",
    "            remainders_subs[k][sub] = sub_inf.get(k, {}).get('res', 0)\n",
    "    \n",
    "    seats_to_add = [] # circo:[partiti] \n",
    "    for k in adjustments.keys():\n",
    "        q = adjustments[k]\n",
    "        lis = remainders_subs[k].items() # [(sub, res)]\n",
    "        for c, _ in sorted(lis, key=lambda x: x[1], reverse=True)[:q]:\n",
    "            seats_to_add.append((c, k))\n",
    "    \n",
    "    ret = {c: df.rename(columns=dict(zip(df.columns, ['party','seggi']))).set_index('party') \\\n",
    "           for c, df in local_distr.items()}\n",
    "    for c, party in seats_to_add:\n",
    "        if party not in ret[c].index:\n",
    "            ret[c].loc[party, 'seggi'] = 0\n",
    "        ret[c].loc[party, 'seggi'] += 1\n",
    "    print(ret)\n",
    "    return {c: df.reset_index() for c, df in ret.items()}, {}, {}"
   ]
  },
  {
   "cell_type": "code",
   "execution_count": 11,
   "metadata": {
    "pycharm": {
     "is_executing": false
    }
   },
   "outputs": [],
   "source": [
    "src.Commons.correct_eu = corr_eu\n",
    "\n",
    "src.GlobalVars.Hub = ActualHub()"
   ]
  },
  {
   "cell_type": "markdown",
   "metadata": {},
   "source": [
    "# Test operation\n",
    "Scenario:  \n",
    "Europee, sono in Nazione, voglio ricavare la distribuzione di lista, sotto ho circoscrizioni\n",
    "\n",
    "### Propose:\n",
    "1. In self, mi restituisce "
   ]
  },
  {
   "cell_type": "code",
   "execution_count": 12,
   "metadata": {
    "pycharm": {
     "is_executing": false
    },
    "scrolled": true
   },
   "outputs": [
    {
     "name": "stdout",
     "text": [
      "Info generic:  {}\n",
      "Info specific:  {}\n",
      "-------------\n",
      "Get subs:  <__main__.ActualHub object at 0x7faf60859790> <__main__.ExampleSelf object at 0x7faf60a6c310> ('sub_levl',) {}\n",
      "Propose: <__main__.ExampleSelf object at 0x7faf60a6c310> ('prop', {}, {}) {'distribution': Empty DataFrame\n",
      "Columns: []\n",
      "Index: []}\n",
      "line 147, subs=  ['c1', 'c2']\n",
      "Get inst:  <__main__.ActualHub object at 0x7faf60859790> sub_levl c1\n",
      "Create sublv:  c1 <__main__.ExampleSubLvl object at 0x7faf60855d60>\n",
      "Propose: c1 ('liste', {}, {'pa': {'votiTot': 50}, 'pb': {'votiTot': 20}, 'pc': {'votiTot': 30}}, {}, {}) {'distribution':   parts  seats\n",
      "0    pa      5\n",
      "1    pb      2\n",
      "2    pc      3}\n",
      "Get inst:  <__main__.ActualHub object at 0x7faf60859790> sub_levl c2\n",
      "Create sublv:  c2 <__main__.ExampleSubLvl object at 0x7faf60b21ac0>\n",
      "Propose: c2 ('liste', {}, {'pa': {'votiTot': 50}, 'pb': {'votiTot': 20}, 'pc': {'votiTot': 30}}, {}, {}) {'distribution':   parts  seats\n",
      "0    pa      5\n",
      "1    pb      2\n",
      "2    pc      3}\n",
      "  party  seats\n",
      "0    pa      3\n",
      "1    pc      1\n",
      "2    pa      2\n",
      "3    pb      1\n",
      "4    pc      1\n",
      "       seats\n",
      "party       \n",
      "pa         5\n",
      "pb         1\n",
      "pc         2\n",
      "{'c1':        seggi\n",
      "party       \n",
      "pa       3.0\n",
      "pc       2.0\n",
      "pb       1.0, 'c2':        seggi\n",
      "party       \n",
      "pa         2\n",
      "pb         1\n",
      "pc         1}\n",
      "Forwarding\n"
     ],
     "output_type": "stream"
    },
    {
     "data": {
      "text/plain": "(Empty DataFrame\n Columns: []\n Index: [],\n {'c1': {'pa': {'res': 0}, 'pb': {'res': 5}, 'pc': {'res': 6}},\n  'c2': {'pa': {'res': 0}, 'pb': {'res': 5}, 'pc': {'res': 4}}},\n {'pa': {'votiTot': 50}, 'pb': {'votiTot': 20}, 'pc': {'votiTot': 30}})"
     },
     "metadata": {},
     "output_type": "execute_result",
     "execution_count": 12
    }
   ],
   "source": [
    "conf = [{'collect_type': 'liste',\n",
    " 'corrector': 'Commons.correct_eu',\n",
    " 'ideal_distribution': 'prop','forward_distribution':True}]\n",
    "\n",
    "f = src.Metaclasses.lanes.parse_ops_lane(\"sub_levl\", *conf)\n",
    "\n",
    "f({'self':ExampleSelf()},\n",
    "  {}, # loc_infos\n",
    "  {}, # distr_infos\n",
    "  {}, # other_infos\n",
    "  distribution=pd.DataFrame())"
   ]
  },
  {
   "cell_type": "markdown",
   "metadata": {
    "pycharm": {
     "is_executing": false,
     "name": "#%% md\n"
    }
   },
   "source": [
    "# Propose testing"
   ]
  },
  {
   "cell_type": "code",
   "execution_count": null,
   "metadata": {
    "pycharm": {
     "is_executing": false
    }
   },
   "outputs": [],
   "source": []
  },
  {
   "cell_type": "code",
   "execution_count": null,
   "metadata": {
    "pycharm": {
     "is_executing": false
    }
   },
   "outputs": [],
   "source": []
  },
  {
   "cell_type": "code",
   "execution_count": null,
   "metadata": {
    "pycharm": {
     "is_executing": false
    }
   },
   "outputs": [],
   "source": []
  },
  {
   "cell_type": "code",
   "execution_count": null,
   "metadata": {
    "pycharm": {
     "is_executing": false
    }
   },
   "outputs": [],
   "source": []
  },
  {
   "cell_type": "code",
   "execution_count": null,
   "metadata": {
    "pycharm": {
     "is_executing": false
    }
   },
   "outputs": [],
   "source": []
  },
  {
   "cell_type": "code",
   "execution_count": null,
   "metadata": {
    "pycharm": {
     "is_executing": false
    }
   },
   "outputs": [],
   "source": []
  },
  {
   "cell_type": "code",
   "execution_count": null,
   "metadata": {
    "pycharm": {
     "is_executing": false
    }
   },
   "outputs": [],
   "source": []
  },
  {
   "cell_type": "code",
   "execution_count": null,
   "metadata": {
    "pycharm": {
     "is_executing": false
    }
   },
   "outputs": [],
   "source": []
  },
  {
   "cell_type": "code",
   "execution_count": null,
   "metadata": {
    "pycharm": {
     "is_executing": false
    }
   },
   "outputs": [],
   "source": []
  },
  {
   "cell_type": "code",
   "execution_count": null,
   "metadata": {
    "pycharm": {
     "is_executing": false
    }
   },
   "outputs": [],
   "source": [
    "def correct(*args, **kwargs):\n",
    "    print(\"Correct: \", args, kwargs)\n",
    "\n",
    "src.GlobalVars.correct = correct"
   ]
  },
  {
   "cell_type": "code",
   "execution_count": null,
   "metadata": {
    "pycharm": {
     "is_executing": false
    }
   },
   "outputs": [],
   "source": [
    "locals()['correct']"
   ]
  },
  {
   "cell_type": "code",
   "execution_count": null,
   "metadata": {
    "pycharm": {
     "is_executing": false
    }
   },
   "outputs": [],
   "source": [
    "conf = {'lane': {'plurinominale': {'first_input': 'kwarg',\n",
    "                            'info_name': 'Circoscrizione',\n",
    "                            'node_type': 'node',\n",
    "                            'operations': [{'collect_type': 'lista',\n",
    "                                            'corrector': 'src.GlobalVars.correct',\n",
    "                                            'ideal_distribution': '$'}],\n",
    "                            'sub_level': 'Plurinominale'}}}\n",
    "\n",
    "f = lanes.parse_lane_fun('plurinominale', **conf['lane']['plurinominale'])"
   ]
  },
  {
   "cell_type": "code",
   "execution_count": null,
   "metadata": {
    "pycharm": {
     "is_executing": false
    }
   },
   "outputs": [],
   "source": [
    "import pandas as pd\n",
    "distr = pd.DataFrame({'a':['a','b','c'], 's':[1,2,3]})"
   ]
  },
  {
   "cell_type": "code",
   "execution_count": null,
   "metadata": {
    "pycharm": {
     "is_executing": false
    }
   },
   "outputs": [],
   "source": [
    "f(Example(), 'plurinominale', {'info':{'much':1,'info':2}}, {}, {}, distribution=distr )"
   ]
  },
  {
   "cell_type": "code",
   "execution_count": null,
   "metadata": {
    "pycharm": {
     "is_executing": false
    }
   },
   "outputs": [],
   "source": []
  }
 ],
 "metadata": {
  "kernelspec": {
   "display_name": "Python 3",
   "language": "python",
   "name": "python3"
  },
  "language_info": {
   "codemirror_mode": {
    "name": "ipython",
    "version": 3
   },
   "file_extension": ".py",
   "mimetype": "text/x-python",
   "name": "python",
   "nbconvert_exporter": "python",
   "pygments_lexer": "ipython3",
   "version": "3.8.1"
  },
  "pycharm": {
   "stem_cell": {
    "cell_type": "raw",
    "source": [],
    "metadata": {
     "collapsed": false
    }
   }
  }
 },
 "nbformat": 4,
 "nbformat_minor": 2
}