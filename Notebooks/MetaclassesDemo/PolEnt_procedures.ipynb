{
 "cells": [
  {
   "cell_type": "code",
   "execution_count": 1,
   "outputs": [],
   "source": [
    "import sys\n",
    "sys.path.insert(1, '/home/lruffati/Documents/0.University/0.SistemiElettorali/')\n",
    "import src\n",
    "from src import Commons\n",
    "\n",
    "from src.Metaclasses import *\n",
    "import src.GlobalVars as GlobalVars\n",
    "import random\n",
    "import pandas as pd\n",
    "import runpy"
   ],
   "metadata": {
    "collapsed": false,
    "pycharm": {
     "name": "#%%\n",
     "is_executing": false
    }
   }
  },
  {
   "cell_type": "code",
   "execution_count": 2,
   "outputs": [],
   "source": [
    "g = globals()\n",
    "r = runpy.run_path('/home/lruffati/Documents/0.University/0.SistemiElettorali/ClassConfigs/Europee/test_exec.py', g)"
   ],
   "metadata": {
    "collapsed": false,
    "pycharm": {
     "name": "#%%\n",
     "is_executing": false
    }
   }
  },
  {
   "cell_type": "code",
   "execution_count": 4,
   "outputs": [
    {
     "data": {
      "text/plain": "<<run_path>.a at 0x7f45b5de9dc0>"
     },
     "metadata": {},
     "output_type": "execute_result",
     "execution_count": 4
    }
   ],
   "source": [
    "classe = r['c']\n",
    "c = classe()\n",
    "c"
   ],
   "metadata": {
    "collapsed": false,
    "pycharm": {
     "name": "#%%\n",
     "is_executing": false
    }
   }
  },
  {
   "cell_type": "code",
   "execution_count": 2,
   "outputs": [],
   "source": [
    "def apply_fun(fun, lis, *args, **kwargs):\n",
    "    return [fun(i, *args, **kwargs) for i in lis]\n",
    "    \n",
    "\n",
    "class Partito:\n",
    "    def __init__(self, *, name):\n",
    "        self.name = name\n",
    "        GlobalVars.Hub.ad_instance(\"Partito\", name)\n",
    "\n",
    "    def log(self, district, lane_name, **info):\n",
    "        pass\n",
    "    \n",
    "    def elect(self, lane_name, district, seats):\n",
    "        cands = GlobalVars.Hub.get_candidates(self.name, instances=True)\n",
    "        \n",
    "        def fun_to_apply(o_self, *args, **kwargs):\n",
    "            return o_self.get_info(*args, **kwargs)\n",
    "        \n",
    "        apply_fun(fun_to_apply, cands, )\n",
    "        \n",
    "class Candidato:\n",
    "    def __init__(self, *, name, Partito):\n",
    "        self.name = name\n",
    "        GlobalVars.Hub.add_instance(\"Candidato\", name, self)\n",
    "        GlobalVars.Hub.add_candidate(party=Partito, candidate=name)\n",
    "        self.Partito = Partito\n",
    "        self.proposals = {}\n",
    "        self.elected = False\n",
    "    \n",
    "    def propose(self, ):\n",
    "        pass\n",
    "    \n",
    "    def log(self, district, lane_name, **info):\n",
    "        pass\n",
    "    \n",
    "    def get_info(self, lane_name):\n",
    "        \"\"\"\n",
    "        Returns a dataframe\n",
    "        \"\"\"\n",
    "        pass"
   ],
   "metadata": {
    "collapsed": false,
    "pycharm": {
     "name": "#%%\n",
     "is_executing": false
    }
   }
  }
 ],
 "metadata": {
  "kernelspec": {
   "display_name": "Python 3",
   "language": "python",
   "name": "python3"
  },
  "language_info": {
   "codemirror_mode": {
    "name": "ipython",
    "version": 2
   },
   "file_extension": ".py",
   "mimetype": "text/x-python",
   "name": "python",
   "nbconvert_exporter": "python",
   "pygments_lexer": "ipython2",
   "version": "2.7.6"
  },
  "pycharm": {
   "stem_cell": {
    "cell_type": "raw",
    "source": [],
    "metadata": {
     "collapsed": false
    }
   }
  }
 },
 "nbformat": 4,
 "nbformat_minor": 0
}