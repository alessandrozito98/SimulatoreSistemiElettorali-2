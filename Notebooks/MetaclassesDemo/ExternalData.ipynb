{
 "cells": [
  {
   "cell_type": "markdown",
   "metadata": {},
   "source": [
    "# External data\n",
    "\n",
    "There are two types, data provide at instantiation and data provided after instantiation.\n",
    "\n",
    "Data provided at instantiation will be provided to the init through kwargs, will have to be derived from yaml code, so it should be short and simple, lists are going to be enough\n",
    "\n",
    "Runtime provided data are those provided after instantiation, these could be voting records and are not restricted"
   ]
  },
  {
   "cell_type": "markdown",
   "metadata": {},
   "source": [
    "## Instantiation\n",
    "Yaml example for a plutrinominale district:\n",
    "```\n",
    "name: PIEMONTE 2 - 01\n",
    "uninominali: \n",
    "    - 05 - ALESSANDRIA\n",
    "    - 06 - ASTI\n",
    "    - 07 - CUNEO\n",
    "    - 08 - ALBA\n",
    "seggi: 9\n",
    "```\n",
    "`name` is a standard parameter which will be used to find the specific instance, it's important it's always the same and unique, at least between members of the same Class\n",
    "\n",
    "The configuration file to receive the above could be of the form:\n",
    "```\n",
    "uninominali:\n",
    "  source: instantiation\n",
    "  type: list\n",
    "  class: Uninominale\n",
    "seggi:\n",
    "  name: num_seggi\n",
    "  source: instantiation\n",
    "  type: scalar\n",
    "  class: int\n",
    "```"
   ]
  },
  {
   "cell_type": "code",
   "execution_count": null,
   "metadata": {
    "code_folding": []
   },
   "outputs": [],
   "source": [
    "def gen_init(conf):\n",
    "    Da testare !!!\n",
    "    def __init__(self, **kwargs):\n",
    "        for i in conf:\n",
    "            n = conf[i].get('name', i)\n",
    "            setattr(self, n, kwargs[i])\n",
    "            if 'class' in conf[i]:\n",
    "                self.types[i] = eval(conf[i]['class'])\n",
    "                \n",
    "    return __init__\n",
    "\n",
    "\n",
    "def gen_accessors(conf):\n",
    "    conf = copy.deepcopy(conf)\n",
    "    lis_f = conf.keys()\n",
    "    lis_f = map(lambda k: conf[k].get('name', k), lis_f)\n",
    "    def gen_fun(var):\n",
    "        def acc(self):\n",
    "            return self.var\n",
    "        return (var, acc)\n",
    "    m = map(gen_fun, lis_f)\n",
    "    fs = {}\n",
    "    for i, f in m:\n",
    "        fs[f'get_{i}'] = f\n",
    "    return fs\n",
    "\n"
   ]
  },
  {
   "cell_type": "markdown",
   "metadata": {
    "cell_style": "center"
   },
   "source": [
    "## Runtime\n",
    "These define a function which accepts the given data. Since it most likely will be a Dataframe I embed some data about the dataframe\n",
    "\n",
    "In addition to the process as for instantiation-time argument passing I will add a few considerations to deal specifically with DataFrame like data, in particular I want to give the option of deriving from a single function multiple dataframes\n",
    "\n",
    "Example configuration:\n",
    "```\n",
    "voti_sezione:\n",
    "  targets:\n",
    "    - name: candidato\n",
    "      columns:\n",
    "        - Candidato\n",
    "        - VotiCand -> Voti\n",
    "    - name: lista_cand\n",
    "      columns:\n",
    "        - Lista\n",
    "        - Candidato\n",
    "        - VotiLista -> Voti\n",
    "```\n",
    "Here all other columns will be discarded.\n",
    "\n",
    "If target isn't present I'll just look for name and columns, if columns isn't present I won't do anything"
   ]
  },
  {
   "cell_type": "code",
   "execution_count": null,
   "metadata": {},
   "outputs": [],
   "source": [
    "import pandas as pd\n",
    "import copy"
   ]
  },
  {
   "cell_type": "code",
   "execution_count": null,
   "metadata": {},
   "outputs": [],
   "source": [
    "import sys\n",
    "import os"
   ]
  },
  {
   "cell_type": "code",
   "execution_count": 1,
   "metadata": {
    "pycharm": {
     "is_executing": false
    }
   },
   "outputs": [],
   "source": [
    "import sys\n",
    "sys.path.insert(1, '/home/lruffati/Documents/0.University/0.SistemiElettorali/')\n",
    "import src\n",
    "\n",
    "from src.Metaclasses import *\n",
    "import src.GlobalVars as GlobalVars"
   ]
  },
  {
   "cell_type": "code",
   "execution_count": 2,
   "metadata": {
    "pycharm": {
     "is_executing": false
    }
   },
   "outputs": [],
   "source": [
    "class HubClass:\n",
    "    def get_instance(self, *a, **kw):\n",
    "        print(a, kw)\n",
    "        return a[1]\n",
    "    \n",
    "GlobalVars.Hub = HubClass()"
   ]
  },
  {
   "cell_type": "code",
   "execution_count": 3,
   "metadata": {
    "pycharm": {
     "is_executing": false
    }
   },
   "outputs": [],
   "source": [
    "class cleanup(type):\n",
    "    def __new__(mcs, *args, **kwargs):\n",
    "        print(args, kwargs)\n",
    "        return super().__new__(mcs, *args)"
   ]
  },
  {
   "cell_type": "code",
   "execution_count": 4,
   "metadata": {
    "pycharm": {
     "is_executing": false
    }
   },
   "outputs": [
    {
     "name": "stdout",
     "text": [
      "External conf:  {'prova': {'init': True, 'type': 'ClasseHub'}, 'provaNuova': {'name': 'provaConNome', 'type': 'int'}, 'voti_sezione': {'targets': [{'columns': ['c -> Candidato', 'vc -> Voti'], 'name': 'candidato'}, {'columns': ['l -> Lista', 'c', 'vl -> Voti'], 'name': 'lista_cand'}]}}\n",
      "Init vars external:  [('prova', ())]\n",
      "external processed:  {'prova': {'init': True, 'type': 'ClasseHub'}, 'provaNuova': {'name': 'provaConNome', 'type': 'int'}, 'voti_sezione': {'targets': [{'columns': ['c -> Candidato', 'vc -> Voti'], 'name': 'candidato'}, {'columns': ['l -> Lista', 'c', 'vl -> Voti'], 'name': 'lista_cand'}]}}\n",
      "{'get_prova': <function external.gen_accessors.<locals>.gen_fun.<locals>.acc at 0x7f39c064cdc0>, 'get_provaConNome': <function external.gen_accessors.<locals>.gen_fun.<locals>.acc at 0x7f39c064ce50>, 'get_candidato': <function external.gen_accessors.<locals>.gen_fun.<locals>.acc at 0x7f39c064cee0>, 'get_lista_cand': <function external.gen_accessors.<locals>.gen_fun.<locals>.acc at 0x7f39c064cf70>} {'give_prova': <function external.gen_providers.<locals>.gen_fun.<locals>.give at 0x7f39c0539040>, 'give_provaNuova': <function external.gen_providers.<locals>.gen_fun.<locals>.give at 0x7f39c05390d0>, 'give_voti_sezione': <function external.gen_providers.<locals>.gen_fun.<locals>.give at 0x7f39c0539160>}\n",
      "('Classe', (), {'__init__': <function external.__new__.<locals>.__init__ at 0x7f39c064cca0>, 'get_prova': <function external.gen_accessors.<locals>.gen_fun.<locals>.acc at 0x7f39c064cdc0>, 'get_provaConNome': <function external.gen_accessors.<locals>.gen_fun.<locals>.acc at 0x7f39c064ce50>, 'get_candidato': <function external.gen_accessors.<locals>.gen_fun.<locals>.acc at 0x7f39c064cee0>, 'get_lista_cand': <function external.gen_accessors.<locals>.gen_fun.<locals>.acc at 0x7f39c064cf70>, 'give_prova': <function external.gen_providers.<locals>.gen_fun.<locals>.give at 0x7f39c0539040>, 'give_provaNuova': <function external.gen_providers.<locals>.gen_fun.<locals>.give at 0x7f39c05390d0>, 'give_voti_sezione': <function external.gen_providers.<locals>.gen_fun.<locals>.give at 0x7f39c0539160>}) {}\n"
     ],
     "output_type": "stream"
    }
   ],
   "source": [
    "mc = type(\"meta_comb\",(external,cleanup), {})\n",
    "conf = {\n",
    "    'prova': {'init':True, 'type': 'ClasseHub'},\n",
    " 'provaNuova': {'name': 'provaConNome', 'type':'int'},\n",
    " 'voti_sezione': { 'targets': [{'columns': ['c -> Candidato', 'vc -> Voti'],\n",
    "    'name': 'candidato'},\n",
    "   {'columns': ['l -> Lista', 'c', 'vl -> Voti'], 'name': 'lista_cand'}]}}\n",
    "Classe = mc(\"Classe\", (), {}, external=conf)"
   ]
  },
  {
   "cell_type": "code",
   "execution_count": 5,
   "metadata": {
    "pycharm": {
     "is_executing": false
    }
   },
   "outputs": [
    {
     "name": "stdout",
     "text": [
      "Init operations of external: \n",
      "Adding  Ciao  come  prova\n"
     ],
     "output_type": "stream"
    }
   ],
   "source": [
    "inst_work = Classe(prova=\"Ciao\")"
   ]
  },
  {
   "cell_type": "code",
   "execution_count": 6,
   "metadata": {
    "pycharm": {
     "is_executing": false
    }
   },
   "outputs": [
    {
     "name": "stdout",
     "text": [
      "['Hub', 'HubClass', '__builtins__', '__cached__', '__doc__', '__file__', '__loader__', '__name__', '__package__', '__spec__']\n",
      "('ClasseHub', 'Ciao') {}\n"
     ],
     "output_type": "stream"
    },
    {
     "data": {
      "text/plain": "'Ciao'"
     },
     "metadata": {},
     "output_type": "execute_result",
     "execution_count": 6
    }
   ],
   "source": [
    "inst_work.get_prova()"
   ]
  },
  {
   "cell_type": "code",
   "execution_count": 6,
   "metadata": {
    "pycharm": {
     "is_executing": false
    }
   },
   "outputs": [],
   "source": []
  },
  {
   "cell_type": "code",
   "execution_count": 6,
   "metadata": {
    "pycharm": {
     "is_executing": false
    }
   },
   "outputs": [],
   "source": []
  },
  {
   "cell_type": "code",
   "execution_count": 7,
   "metadata": {
    "pycharm": {
     "is_executing": false
    }
   },
   "outputs": [
    {
     "data": {
      "text/plain": "   c  l  vl  vc\n0  a  a  10  11\n1  b  b  20  20\n2  c  c   5  24\n3  c  d   7  24\n4  c  e   8  24",
      "text/html": "<div>\n<style scoped>\n    .dataframe tbody tr th:only-of-type {\n        vertical-align: middle;\n    }\n\n    .dataframe tbody tr th {\n        vertical-align: top;\n    }\n\n    .dataframe thead th {\n        text-align: right;\n    }\n</style>\n<table border=\"1\" class=\"dataframe\">\n  <thead>\n    <tr style=\"text-align: right;\">\n      <th></th>\n      <th>c</th>\n      <th>l</th>\n      <th>vl</th>\n      <th>vc</th>\n    </tr>\n  </thead>\n  <tbody>\n    <tr>\n      <th>0</th>\n      <td>a</td>\n      <td>a</td>\n      <td>10</td>\n      <td>11</td>\n    </tr>\n    <tr>\n      <th>1</th>\n      <td>b</td>\n      <td>b</td>\n      <td>20</td>\n      <td>20</td>\n    </tr>\n    <tr>\n      <th>2</th>\n      <td>c</td>\n      <td>c</td>\n      <td>5</td>\n      <td>24</td>\n    </tr>\n    <tr>\n      <th>3</th>\n      <td>c</td>\n      <td>d</td>\n      <td>7</td>\n      <td>24</td>\n    </tr>\n    <tr>\n      <th>4</th>\n      <td>c</td>\n      <td>e</td>\n      <td>8</td>\n      <td>24</td>\n    </tr>\n  </tbody>\n</table>\n</div>"
     },
     "metadata": {},
     "output_type": "execute_result",
     "execution_count": 7
    }
   ],
   "source": [
    "import pandas as pd\n",
    "df = pd.DataFrame({'c':['a','b','c','c','c'],'l':['a','b','c','d','e'],'vl':[10,20,5,7,8],'vc':[11,20,24,24,24]})\n",
    "df"
   ]
  },
  {
   "cell_type": "code",
   "execution_count": 8,
   "metadata": {
    "pycharm": {
     "is_executing": false
    }
   },
   "outputs": [
    {
     "name": "stdout",
     "text": [
      "Adding     c  l  vl  vc\n",
      "0  a  a  10  11\n",
      "1  b  b  20  20\n",
      "2  c  c   5  24\n",
      "3  c  d   7  24\n",
      "4  c  e   8  24  come  voti_sezione\n"
     ],
     "output_type": "stream"
    }
   ],
   "source": [
    "inst_work.give_voti_sezione(df)"
   ]
  },
  {
   "cell_type": "code",
   "execution_count": 9,
   "metadata": {
    "pycharm": {
     "is_executing": false
    }
   },
   "outputs": [
    {
     "data": {
      "text/plain": "  Lista  c  Voti\n0     a  a    10\n1     b  b    20\n2     c  c     5\n3     d  c     7\n4     e  c     8",
      "text/html": "<div>\n<style scoped>\n    .dataframe tbody tr th:only-of-type {\n        vertical-align: middle;\n    }\n\n    .dataframe tbody tr th {\n        vertical-align: top;\n    }\n\n    .dataframe thead th {\n        text-align: right;\n    }\n</style>\n<table border=\"1\" class=\"dataframe\">\n  <thead>\n    <tr style=\"text-align: right;\">\n      <th></th>\n      <th>Lista</th>\n      <th>c</th>\n      <th>Voti</th>\n    </tr>\n  </thead>\n  <tbody>\n    <tr>\n      <th>0</th>\n      <td>a</td>\n      <td>a</td>\n      <td>10</td>\n    </tr>\n    <tr>\n      <th>1</th>\n      <td>b</td>\n      <td>b</td>\n      <td>20</td>\n    </tr>\n    <tr>\n      <th>2</th>\n      <td>c</td>\n      <td>c</td>\n      <td>5</td>\n    </tr>\n    <tr>\n      <th>3</th>\n      <td>d</td>\n      <td>c</td>\n      <td>7</td>\n    </tr>\n    <tr>\n      <th>4</th>\n      <td>e</td>\n      <td>c</td>\n      <td>8</td>\n    </tr>\n  </tbody>\n</table>\n</div>"
     },
     "metadata": {},
     "output_type": "execute_result",
     "execution_count": 9
    }
   ],
   "source": [
    "inst_work.get_lista_cand()"
   ]
  },
  {
   "cell_type": "code",
   "execution_count": 10,
   "metadata": {
    "pycharm": {
     "is_executing": false
    }
   },
   "outputs": [
    {
     "name": "stdout",
     "text": [
      "Adding  123  come  provaNuova\n"
     ],
     "output_type": "stream"
    }
   ],
   "source": [
    "inst_work.give_provaNuova(\"123\")\n"
   ]
  },
  {
   "cell_type": "code",
   "execution_count": 11,
   "metadata": {
    "pycharm": {
     "is_executing": false
    }
   },
   "outputs": [
    {
     "data": {
      "text/plain": "124"
     },
     "metadata": {},
     "output_type": "execute_result",
     "execution_count": 11
    }
   ],
   "source": [
    "inst_work.get_provaConNome()+1"
   ]
  },
  {
   "cell_type": "code",
   "execution_count": null,
   "outputs": [],
   "source": [
    "\n"
   ],
   "metadata": {
    "collapsed": false,
    "pycharm": {
     "name": "#%%\n"
    }
   }
  }
 ],
 "metadata": {
  "kernelspec": {
   "display_name": "Python 3",
   "language": "python",
   "name": "python3"
  },
  "language_info": {
   "codemirror_mode": {
    "name": "ipython",
    "version": 3
   },
   "file_extension": ".py",
   "mimetype": "text/x-python",
   "name": "python",
   "nbconvert_exporter": "python",
   "pygments_lexer": "ipython3",
   "version": "3.8.1"
  },
  "pycharm": {
   "stem_cell": {
    "cell_type": "raw",
    "source": [],
    "metadata": {
     "collapsed": false
    }
   }
  }
 },
 "nbformat": 4,
 "nbformat_minor": 2
}