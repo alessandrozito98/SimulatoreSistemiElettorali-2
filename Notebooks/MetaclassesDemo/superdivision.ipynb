{
 "cells": [
  {
   "cell_type": "markdown",
   "metadata": {},
   "source": [
    "# From src"
   ]
  },
  {
   "cell_type": "code",
   "execution_count": 1,
   "metadata": {},
   "outputs": [],
   "source": [
    "import sys\n",
    "sys.path.insert(1, '/home/lruffati/Documents/0.University/0.SistemiElettorali/')\n",
    "import src\n",
    "\n",
    "from src.Metaclasses import *\n",
    "import src.GlobalVars as GlobalVars"
   ]
  },
  {
   "cell_type": "code",
   "execution_count": 50,
   "metadata": {},
   "outputs": [],
   "source": [
    "import random\n",
    "class example:\n",
    "    def __init__(self, val):\n",
    "        #print(\"Instance ex\")\n",
    "        self.v = val\n",
    "        self.id = random.randint(1,100)\n",
    "    \n",
    "    def funzione(self, *args, **kwargs):\n",
    "        # print(\"Example: \",self.id)\n",
    "        print(\"Funzione chiamata con: \", args, kwargs)\n",
    "        # print(\"Funzione: \", self.v)\n",
    "        return self.v"
   ]
  },
  {
   "cell_type": "code",
   "execution_count": 51,
   "metadata": {},
   "outputs": [],
   "source": [
    "class HubC:\n",
    "    def __init__(self, *args):\n",
    "        v = map(example, args)\n",
    "        self.vals = {i.id: i for i in v}\n",
    "\n",
    "    def get_subdivisions(self, sup, sub_name):\n",
    "        \"\"\"\n",
    "        sup: o un'istanza di una geoEnt, o una tupla (nomeClasse, nomeIstanza)\n",
    "        sub_name: nome classe target\n",
    "\n",
    "        return: list of names (stringhe)\n",
    "        \"\"\"\n",
    "        print(sup, sub_name)\n",
    "        return self.vals.keys()\n",
    "\n",
    "    def get_superdivision(self, sub, sup_name):\n",
    "        \"\"\"\n",
    "        sub: o un'istanza o una tuple\n",
    "        sup_name: nome classe target\n",
    "\n",
    "        return nome istanza target\n",
    "        \"\"\"\n",
    "        pass\n",
    "\n",
    "    def get_instance(self, class_name, inst_name):\n",
    "        # print(\"Get inst: \", class_name, inst_name)\n",
    "        return self.vals[inst_name]\n",
    "\n",
    "    def add_subdiv(self, sup_type, sub_type, var_name):\n",
    "        \"\"\"\n",
    "        Records that instances of sup_type have instances of sub_type stored in self.var_name\n",
    "        \"\"\"\n",
    "        print(\"Adding sub: \",sup_type, sub_type, var_name)"
   ]
  },
  {
   "cell_type": "code",
   "execution_count": 79,
   "metadata": {
    "scrolled": true
   },
   "outputs": [],
   "source": [
    "import pandas as pd\n",
    "df1 = pd.DataFrame({'a':[1,2,3], 'b':[4,5,6]})\n",
    "df2 = pd.DataFrame({'a':[11,12,13], 'b':[14,15,16]})\n",
    "hub1 = HubC(df1, df2)\n",
    "hub2 = HubC(1,2,3,4)"
   ]
  },
  {
   "cell_type": "code",
   "execution_count": 85,
   "metadata": {},
   "outputs": [],
   "source": [
    "class cleanup(type):\n",
    "    def __new__(mcs, *args, **kwargs):\n",
    "        print(args, kwargs)\n",
    "        return super().__new__(mcs, *args)\n",
    "    \n",
    "comb = type(\"combinata\", (superdivision, external, cleanup), {})"
   ]
  },
  {
   "cell_type": "code",
   "execution_count": 81,
   "metadata": {
    "scrolled": true
   },
   "outputs": [
    {
     "name": "stdout",
     "output_type": "stream",
     "text": [
      "Parsing conf:  {'subdivisions': {'plurinominali': {'functions': [{'name': 'liste', 'source': {'args': ['ciao', 'come', 'va'], 'name': 'self.funzione', 'type': 'fun'}}], 'type': 'Plurinominale'}}}\n",
      "prova,  dict_keys(['subdivisions'])\n",
      "Parsing conf:  {'plurinominali': {'functions': [{'name': 'liste', 'source': {'args': ['ciao', 'come', 'va'], 'name': 'self.funzione', 'type': 'fun'}}], 'type': 'Plurinominale'}}\n",
      "prova,  dict_keys(['plurinominali'])\n",
      "Parsing conf:  {'functions': [{'name': 'liste', 'source': {'args': ['ciao', 'come', 'va'], 'name': 'self.funzione', 'type': 'fun'}}], 'type': 'Plurinominale'}\n",
      "prova,  dict_keys(['functions', 'type'])\n",
      "Parsing conf:  [{'name': 'liste', 'source': {'args': ['ciao', 'come', 'va'], 'name': 'self.funzione', 'type': 'fun'}}]\n",
      "Parsing conf:  {'name': 'liste', 'source': {'args': ['ciao', 'come', 'va'], 'name': 'self.funzione', 'type': 'fun'}}\n",
      "prova,  dict_keys(['name', 'source'])\n",
      "Parsing conf:  liste\n",
      "Parsing conf:  {'args': ['ciao', 'come', 'va'], 'name': 'self.funzione', 'type': 'fun'}\n",
      "In source\n",
      "Parsing fun:  self.funzione ['ciao', 'come', 'va'] None {'type': 'fun'}\n",
      "Parsing conf:  ciao\n",
      "In source\n",
      "Parsing conf:  come\n",
      "In source\n",
      "Parsing conf:  va\n",
      "In source\n",
      "Parsing conf:  Plurinominale\n"
     ]
    }
   ],
   "source": [
    "conf = {'subdivisions': {'plurinominali': {'functions': [{'name': 'liste',\n",
    "                                                   'source': {'args': ['ciao','come','va'],\n",
    "                                                              'name': 'self.funzione',\n",
    "                                                              'type': 'fun'}}],\n",
    "                                    'type': 'Plurinominale'}}}\n",
    "confparse = src.Metaclasses.sources_parse.source_parse(conf)"
   ]
  },
  {
   "cell_type": "code",
   "execution_count": 82,
   "metadata": {},
   "outputs": [
    {
     "name": "stdout",
     "output_type": "stream",
     "text": [
      "Superdivision configuration:  {'plurinominali': {'functions': [{'name': 'liste', 'source': <function source_parse.<locals>.function_returned at 0x7ff0dcd2d9d0>}], 'type': 'Plurinominale'}}\n",
      "Adding sub:  class Plurinominale plurinominali\n",
      "After superdivision:  ('class', (), {'subs_liste': <function superdivision.generate_accessor.<locals>.accessor at 0x7ff0dcd5ea60>}) {'external': {'plurinominali': {'init': True}}}\n",
      "('class', (), {'subs_liste': <function superdivision.generate_accessor.<locals>.accessor at 0x7ff0dcd5ea60>}) {'external': {'plurinominali': {'init': True}}}\n"
     ]
    }
   ],
   "source": [
    "src.GlobalVars.Hub = hub2\n",
    "classe = comb(\"class\", (), {}, **confparse)"
   ]
  },
  {
   "cell_type": "code",
   "execution_count": 83,
   "metadata": {},
   "outputs": [],
   "source": [
    "c = classe()"
   ]
  },
  {
   "cell_type": "code",
   "execution_count": 84,
   "metadata": {},
   "outputs": [
    {
     "name": "stdout",
     "output_type": "stream",
     "text": [
      "<__main__.class object at 0x7ff0dce2d700> Plurinominale\n",
      "sup_accessor:  <map object at 0x7ff0dcd20310>\n",
      "soruce:  <function source_parse.<locals>.function_returned at 0x7ff0dcd2d9d0>\n",
      "ret_fun_parse: [<function source_parse.<locals>.simple_res at 0x7ff0dcd5b550>, <function source_parse.<locals>.simple_res at 0x7ff0dcd2d4c0>, <function source_parse.<locals>.simple_res at 0x7ff0dcd2d040>]\n",
      "Funzione chiamata con:  ('ciao', 'come', 'va') {}\n",
      "ret_fun_parse: [<function source_parse.<locals>.simple_res at 0x7ff0dcd5b550>, <function source_parse.<locals>.simple_res at 0x7ff0dcd2d4c0>, <function source_parse.<locals>.simple_res at 0x7ff0dcd2d040>]\n",
      "Funzione chiamata con:  ('ciao', 'come', 'va') {}\n",
      "ret_fun_parse: [<function source_parse.<locals>.simple_res at 0x7ff0dcd5b550>, <function source_parse.<locals>.simple_res at 0x7ff0dcd2d4c0>, <function source_parse.<locals>.simple_res at 0x7ff0dcd2d040>]\n",
      "Funzione chiamata con:  ('ciao', 'come', 'va') {}\n",
      "ret_fun_parse: [<function source_parse.<locals>.simple_res at 0x7ff0dcd5b550>, <function source_parse.<locals>.simple_res at 0x7ff0dcd2d4c0>, <function source_parse.<locals>.simple_res at 0x7ff0dcd2d040>]\n",
      "Funzione chiamata con:  ('ciao', 'come', 'va') {}\n"
     ]
    },
    {
     "data": {
      "text/plain": [
       "10"
      ]
     },
     "execution_count": 84,
     "metadata": {},
     "output_type": "execute_result"
    }
   ],
   "source": [
    "c.subs_liste()"
   ]
  },
  {
   "cell_type": "code",
   "execution_count": null,
   "metadata": {},
   "outputs": [],
   "source": []
  },
  {
   "cell_type": "code",
   "execution_count": null,
   "metadata": {},
   "outputs": [],
   "source": []
  },
  {
   "cell_type": "code",
   "execution_count": null,
   "metadata": {},
   "outputs": [],
   "source": []
  },
  {
   "cell_type": "code",
   "execution_count": null,
   "metadata": {},
   "outputs": [],
   "source": []
  }
 ],
 "metadata": {
  "kernelspec": {
   "display_name": "Python 3",
   "language": "python",
   "name": "python3"
  },
  "language_info": {
   "codemirror_mode": {
    "name": "ipython",
    "version": 3
   },
   "file_extension": ".py",
   "mimetype": "text/x-python",
   "name": "python",
   "nbconvert_exporter": "python",
   "pygments_lexer": "ipython3",
   "version": "3.8.1"
  }
 },
 "nbformat": 4,
 "nbformat_minor": 2
}
