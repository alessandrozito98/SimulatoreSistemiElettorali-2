{
 "cells": [
  {
   "cell_type": "code",
   "execution_count": 1,
   "metadata": {},
   "outputs": [],
   "source": [
    "def parse_columns(cols):\n",
    "    \"\"\"\n",
    "    Parses columns and rename, it receives either a string of the form:\n",
    "    > name (-> rename)?\n",
    "    \n",
    "    or a list of such strings\n",
    "    \n",
    "    It returns a list and a dictionary, the list is an ordered list of 'name', the dictionary is,\n",
    "    for each entry with a 'rename', a mapping: 'name':'rename'\n",
    "    \"\"\"\n",
    "    if type(cols)==list:\n",
    "        l = map(parse_columns, cols)\n",
    "        l_f = []\n",
    "        d_f = {}\n",
    "        for i in l:\n",
    "            l_f.extend(i[0])\n",
    "            d_f.update(i[1])\n",
    "        return l_f, d_f\n",
    "    cols = cols.split('->')\n",
    "    r = cols[0].strip()\n",
    "    if len(cols) > 1:\n",
    "        return [r], {r:cols[1].strip()}\n",
    "    else:\n",
    "        return [r], {}"
   ]
  },
  {
   "cell_type": "markdown",
   "metadata": {},
   "source": [
    "# Totals\n",
    "Totals is the backbone of the project, this is the class defining how to manipulate data.\n",
    "\n",
    "I have identified three ways to abstract Pandas operations:\n",
    "+ Aggregation\n",
    "+ Transformation\n",
    "+ Combination\n",
    "+ Filtering\n",
    "\n",
    "To facilitate the processes I will assume all data comes from functions, making the interface uniform. Other metaclasses will decide how to approach this, for instance data sources automatically create a `get_data` interface, while subclasses will automatically concatenate the results of the operations in an arbitrary number of functions"
   ]
  },
  {
   "cell_type": "markdown",
   "metadata": {},
   "source": [
    "## Filtering\n",
    "Filtering is an operation necessary as for instance some parties get too little votes to influence the result, or alternatively a candidate being elected in a lane invalidates the second preference for a following lane (see the german system).\n",
    "\n",
    "A row could be filtered based on:\n",
    "+ A single column (as would happen if a party didn't pass a threshold)\n",
    "+ A computation on the whole row (german second vote scenario)\n",
    "+ A consideration on the whole dataframe.\n",
    "\n",
    "However the filter can usually be determined by a single column therefore I will apply the follow standard:\n",
    "\n",
    "1. The filter is passed to totals as a string argument\n",
    "2. This is forwarded to lower calls\n",
    "3. For each row of the result I take the cell in the first column and call filter on the content of the cell\n",
    "4. If the result is false I remove the row"
   ]
  },
  {
   "cell_type": "markdown",
   "metadata": {},
   "source": [
    "## Aggregation\n",
    "In this modality a dataframe sees the number of rows reduced according to some criteria by merging multiple rows together"
   ]
  },
  {
   "cell_type": "markdown",
   "metadata": {},
   "source": [
    "## Transformation\n",
    "When a transformation occours the Dataframe shape and content changes radically.\n",
    "\n",
    "+ Applying a function on a column\n",
    "+ Applying a function on records to obtain a new column"
   ]
  },
  {
   "cell_type": "markdown",
   "metadata": {},
   "source": [
    "## Combination\n",
    "\n",
    "This mode combines inputs from multiple sources and calls a function on each similar entry\n",
    "\n",
    "The sources can be treated as:\n",
    "+ Scalars: these are treated as a single entity, will be passed as is to each call. They're going to be passed as positional arguments following the dataframes\n",
    "+ DataFrames: these are pandas dataframes, will need a key over which to aggregate.\n",
    "All entries with the same key(s) will be passed to the same function call. Different dataframes will be merged together, inner-merge. So the functions must accept a single dataframe parameter as the first positional argument\n",
    "+ Series: these aren't proper pandas series, I take this to mean a dataframe where each key identifies a single row, the row will be taken as a dict, the key columns removed and passed as kwargs"
   ]
  },
  {
   "cell_type": "markdown",
   "metadata": {},
   "source": [
    "### Todo:\n",
    "Renaming the results isn't implemented yet"
   ]
  },
  {
   "cell_type": "code",
   "execution_count": 2,
   "metadata": {},
   "outputs": [],
   "source": [
    "import pandas as pd\n",
    "import random\n",
    "\n",
    "def rand():\n",
    "    return random.random()\n",
    "\n",
    "df = pd.DataFrame({'c':['a','b','c','c','c'], #coalizione di appartenenza\n",
    "                   'l':['a','b','c','d','e'], #lista\n",
    "                   'vl':[10,20,5,7,8]}) #voti\n",
    "ds = pd.DataFrame({'c':['a','b','c'], #coalizione\n",
    "                   's':[6,10,12]}) #seggi\n",
    "\n",
    "def df_f():\n",
    "    return df\n",
    "\n",
    "def ds_f():\n",
    "    return ds\n",
    "\n",
    "def tes_fun(*args, **kwargs):\n",
    "    for i in args:\n",
    "        print(i)\n",
    "    for k, v in kwargs.items():\n",
    "        print(k,':')\n",
    "        print(v)"
   ]
  },
  {
   "cell_type": "markdown",
   "metadata": {},
   "source": [
    "```\n",
    "combine_fun:\n",
    "  type: combine\n",
    "  function: tes_fun\n",
    "  keys:\n",
    "    - Coalizione\n",
    "  args:\n",
    "    - type: dataframe\n",
    "      source: df_f\n",
    "      columns:\n",
    "        - c -> Coalizione\n",
    "        - l -> Lista\n",
    "        - vl -> Voti\n",
    "    - type: scalar\n",
    "      source: rand\n",
    "    - type: series\n",
    "      source: ds_f\n",
    "      columns:\n",
    "        - c -> Coalizione\n",
    "        - s -> Seggi\n",
    "```\n",
    "Questo codice deve aggregare basandosi sulla coalizione e "
   ]
  },
  {
   "cell_type": "code",
   "execution_count": 3,
   "metadata": {},
   "outputs": [],
   "source": [
    "conf = {'combine_fun': {'args': [{'columns': ['c -> Coalizione',\n",
    "                                       'l -> Lista',\n",
    "                                       'vl -> Voti'],\n",
    "                           'source': 'df_f',\n",
    "                           'type': 'dataframe'},\n",
    "                          {'source': 'rand', 'type': 'scalar'},\n",
    "                          {'columns': ['c -> Coalizione', 's -> Seggi'],\n",
    "                           'source': 'ds_f',\n",
    "                           'type': 'series'}],\n",
    "                 'function': 'tes_fun',\n",
    "                 'keys': ['Coalizione'],\n",
    "                 'type': 'combine'}}"
   ]
  },
  {
   "cell_type": "code",
   "execution_count": 4,
   "metadata": {},
   "outputs": [],
   "source": [
    "df1_cols = parse_columns(conf['combine_fun']['args'][0]['columns'])\n",
    "se1_cols = parse_columns(conf['combine_fun']['args'][2]['columns'])"
   ]
  },
  {
   "cell_type": "code",
   "execution_count": 5,
   "metadata": {},
   "outputs": [],
   "source": [
    "df1 = eval(conf['combine_fun']['args'][0]['source'])()[df1_cols[0]].rename(columns=df1_cols[1])\n",
    "sc1 = eval(conf['combine_fun']['args'][1]['source'])()\n",
    "se1 = eval(conf['combine_fun']['args'][2]['source'])()[se1_cols[0]].rename(columns=se1_cols[1])"
   ]
  },
  {
   "cell_type": "code",
   "execution_count": 6,
   "metadata": {},
   "outputs": [],
   "source": [
    "dfs = []\n",
    "scs = []\n",
    "ses = []\n",
    "\n",
    "for dic in conf['combine_fun']['args']:\n",
    "    if dic[\"type\"]=='dataframe':\n",
    "        cols = parse_columns(dic['columns'])\n",
    "        dfs.append(eval(dic['source'])()[cols[0]].rename(columns=cols[1]))\n",
    "    elif dic[\"type\"]=='series':\n",
    "        cols = parse_columns(dic['columns'])\n",
    "        ses.append(eval(dic['source'])()[cols[0]].rename(columns=cols[1]))\n",
    "    else:\n",
    "        scs.append(eval(dic['source'])())"
   ]
  },
  {
   "cell_type": "code",
   "execution_count": 7,
   "metadata": {},
   "outputs": [
    {
     "name": "stdout",
     "output_type": "stream",
     "text": [
      "Running: a\n",
      "  Coalizione Lista  Voti\n",
      "0          a     a    10\n",
      "0.7431030431472867\n",
      "Seggi :\n",
      "6\n",
      "Running: b\n",
      "  Coalizione Lista  Voti\n",
      "1          b     b    20\n",
      "0.7431030431472867\n",
      "Seggi :\n",
      "10\n",
      "Running: c\n",
      "  Coalizione Lista  Voti\n",
      "2          c     c     5\n",
      "3          c     d     7\n",
      "4          c     e     8\n",
      "0.7431030431472867\n",
      "Seggi :\n",
      "12\n"
     ]
    }
   ],
   "source": [
    "keys = conf['combine_fun']['keys']\n",
    "gps = df1.groupby(keys)\n",
    "f = eval(conf['combine_fun']['function'])\n",
    "results = []\n",
    "for g, frame in gps:\n",
    "    print(\"Running:\",g)\n",
    "    g = list(g)\n",
    "    kwargs = {}\n",
    "    # Per ogni serie\n",
    "    m = [ se1[keys[i]] == g[i] for i in range(len(g))]\n",
    "    fil = m[0]\n",
    "    for i in m[1:]:\n",
    "        fil = fil & i\n",
    "    \n",
    "    kw_1 = dict(se1[fil].iloc[0])\n",
    "    for i in keys:\n",
    "        kw_1.pop(i, None)\n",
    "    kwargs.update(kw_1)\n",
    "    \n",
    "    results.append(f(frame, sc1,**kwargs))"
   ]
  },
  {
   "cell_type": "code",
   "execution_count": 8,
   "metadata": {},
   "outputs": [],
   "source": [
    "def parse_dataframe(conf):\n",
    "    \"\"\"\n",
    "    Generate the information needed to obtain a dataframe\n",
    "    Conf is a dictionary with the following keys:\n",
    "    \n",
    "    \"\"\"\n",
    "\n",
    "def gen_totals_combine(conf): #conf is the function configuration, not the generic configuration\n",
    "    \"\"\"\n",
    "    Elements of the dictionary\n",
    "    \n",
    "    type: 'combine'\n",
    "    function: the function to apply\n",
    "    keys: List[str] the keys over which to aggregate/merge dataframes\n",
    "    args: List[dict], each dict will have the key \"type\", if not defaults to scalar \n",
    "    \"\"\"\n",
    "    conf = copy.deepcopy(conf)\n",
    "    lis_f = conf.keys()\n",
    "    def gen_fun(var):\n",
    "        def give(self, val):\n",
    "            setattr(self, var, val)\n",
    "        return (var, give)\n",
    "    m = map(gen_fun, lis_f)\n",
    "    fs = {}\n",
    "    for i, f in m:\n",
    "        fs[f'give_{i}'] = f\n",
    "    return fs\n"
   ]
  },
  {
   "cell_type": "markdown",
   "metadata": {},
   "source": [
    "Sezione\n",
    "```\n",
    "lista_cand:\n",
    "  type: aggregate\n",
    "  keys:\n",
    "    - Lista\n",
    "    - Candidato \n",
    "  source:\n",
    "    fun: self.get_voti_lista_cand\n",
    "    options: NoArgs\n",
    "  ops:\n",
    "    Voti: sum\n",
    "  col_types:\n",
    "    Lista: Partito\n",
    "    Candidato: Candidato\n",
    "\n",
    "cand:\n",
    "  type: aggregate\n",
    "  keys:\n",
    "    - Candidato \n",
    "  source:\n",
    "    name: self.get_voti_cand\n",
    "    options: NoArgs\n",
    "  ops:\n",
    "    Voti: sum\n",
    "  col_types:\n",
    "    Candidato: Candidato\n",
    "```\n",
    "NoArgs blocks Totals from forwarding arguments such as blocking"
   ]
  },
  {
   "cell_type": "markdown",
   "metadata": {},
   "source": [
    "Uninominale:\n",
    "```\n",
    "candidato:\n",
    "  type: aggregate\n",
    "  keys:\n",
    "    - Candidato\n",
    "  source:\n",
    "    fun: self.subs_sez_candidato\n",
    "  ops:\n",
    "    Voti: sum\n",
    "  col_types:\n",
    "    Candidato: Candidato\n",
    "\n",
    "lista_cand:\n",
    "  type: aggregate\n",
    "  keys:\n",
    "    - Candidato\n",
    "    - Lista\n",
    "  source:\n",
    "    fun: self.subs_sez_list\n",
    "  ops:\n",
    "    Voti: sum\n",
    "  col_types:\n",
    "    Lista: Partito\n",
    "    Candidato: Candidato\n",
    "\n",
    "lista:\n",
    "  type: combine\n",
    "  function: commons.Hondt\n",
    "  keys: \n",
    "    - Candidato\n",
    "  args:\n",
    "    - type: dataframe\n",
    "      source: \n",
    "         fun: self.totals\n",
    "         args:\n",
    "           - lista_cand\n",
    "      columns:\n",
    "        - Lista\n",
    "        - Candidato\n",
    "        - Voti\n",
    "    - redistribuzione\n",
    "    - type: series\n",
    "      source: \n",
    "         fun: self.totals\n",
    "         args:\n",
    "           - candidato\n",
    "      columns:\n",
    "        - Candidato\n",
    "        - Seggi\n",
    "  columns:\n",
    "    - Lista\n",
    "    - Seggi -> Voti\n",
    "  col_types:\n",
    "    Lista: Partito\n",
    "\n",
    "```\n",
    "negli argomenti se non è un dizionario trattarlo come scalare, stringa o intero"
   ]
  },
  {
   "cell_type": "markdown",
   "metadata": {
    "cell_style": "split"
   },
   "source": [
    "Plurinominale\n",
    "```\n",
    "lista:\n",
    "  type: aggregate\n",
    "  keys:\n",
    "    - Lista\n",
    "  source:\n",
    "    fun: self.subs_uni_lista\n",
    "  ops:\n",
    "    Voti: sum\n",
    "  col_types:\n",
    "    Lista: Partito\n",
    "\n",
    "coalizione:\n",
    "  type: aggregate\n",
    "  keys:\n",
    "    - Lista\n",
    "  source:\n",
    "    fun: self.totals\n",
    "    args:\n",
    "      - coalizione_raw\n",
    "    columns:\n",
    "      - Coalizione\n",
    "      - Voti\n",
    "  ops:\n",
    "    Voti: sum\n",
    "  col_types:\n",
    "    Coalizione: Coalizione\n",
    "\n",
    "coalizione_raw:\n",
    "  type: transform\n",
    "  source:\n",
    "    fun: self.totals\n",
    "    args:\n",
    "      - lista\n",
    "    columns:\n",
    "      - Lista\n",
    "      - Voti\n",
    "  apply:\n",
    "    - type: column\n",
    "      column: Lista\n",
    "      col_type: Partito\n",
    "      attribute: coalizione\n",
    "      replace: True\n",
    "  columns:\n",
    "    - Lista -> Coalizione\n",
    "    - Voti\n",
    "  col_types:\n",
    "    Coalizione: Coalizione\n",
    "```"
   ]
  },
  {
   "cell_type": "markdown",
   "metadata": {
    "cell_style": "split"
   },
   "source": [
    "types:\n",
    "+ aggregate\n",
    "+ transform\n",
    "+ combine\n",
    "+ multi-stage"
   ]
  },
  {
   "cell_type": "markdown",
   "metadata": {
    "cell_style": "split"
   },
   "source": []
  },
  {
   "cell_type": "markdown",
   "metadata": {
    "cell_style": "split"
   },
   "source": []
  },
  {
   "cell_type": "markdown",
   "metadata": {
    "cell_style": "split"
   },
   "source": []
  },
  {
   "cell_type": "markdown",
   "metadata": {
    "cell_style": "split"
   },
   "source": []
  },
  {
   "cell_type": "code",
   "metadata": {
    "cell_style": "split",
    "pycharm": {
     "name": "#%% \n",
     "is_executing": false
    }
   },
   "source": [
    "def gen_fun(i):\n",
    "    def f(*a, **kw):\n",
    "        return i\n",
    "    return f\n",
    "\n",
    "import copy\n",
    "a = []\n",
    "attr = [1,2,3,4,5,6, \"Ciao\"]\n",
    "\n",
    "for i in attr:\n",
    "    a.append(gen_fun(i))\n",
    "\n",
    "a[2]()\n"
   ],
   "execution_count": 20,
   "outputs": [
    {
     "data": {
      "text/plain": "3"
     },
     "metadata": {},
     "output_type": "execute_result",
     "execution_count": 20
    }
   ]
  },
  {
   "cell_type": "markdown",
   "metadata": {},
   "source": [
    "source posso parsarlo con source_parse, mi restituisce una funzione che accetta \\*args e \\*\\*kwargs e mi restituisce il valore di interesse"
   ]
  },
  {
   "cell_type": "code",
   "execution_count": 9,
   "metadata": {
    "cell_style": "center"
   },
   "outputs": [],
   "source": [
    "import functools\n",
    "def total_example_aggregate(self, *sbarramenti):\n",
    "    keys = keys_fun()\n",
    "    operations = operations_dict() # column_name: str|function accepting a series\n",
    "    function = func_gen()\n",
    "    source = function(*sbarramenti)\n",
    "    return source.groupby(keys).aggregate(operations)\n",
    "    \n",
    "\n",
    "def total_example_transformation_fullDF(self, *sbarramenti):\n",
    "    function = func_gen()\n",
    "    source = function(*sbarramenti)\n",
    "    r = source[columns_fun_before()]\n",
    "    df = r.rename(columns = rename_fun_before())\n",
    "    op = fun_operation()\n",
    "    return op(r)\n",
    "    \n",
    "def total_example_transformation_new_column(self, *sbarramenti):\n",
    "    function = func_gen()\n",
    "    source = function(*sbarramenti)\n",
    "    r = source[columns_fun_before()]\n",
    "    df = r.rename(columns = rename_fun_before())\n",
    "    ops = fun_operations() #dict str: function\n",
    "    for c, fun in ops.items():\n",
    "        df[c] = df.apply(fun, axis=1)\n",
    "    return df\n",
    "\n",
    "def total_example_combination(self, *sbarramenti):\n",
    "    functions_dfs = funcs_gen_df()\n",
    "    functions_scs = funcs_gen_sc()\n",
    "    functions_ses = funct_gen_se()\n",
    "    s_dfs = [i(*sbarramenti) for i in functions_dfs]\n",
    "    s_scs = [i(*sbarramenti) for i in functions_scs]\n",
    "    s_ses = [i(*sbarramenti) for i in functions_ses]\n",
    "    keys = keys_fun()\n",
    "    if len(s_dfs)>1:\n",
    "        frame = functools.reduce(lambda a, b: pd.merge(a,b, on=list(keys)), s_dfs)\n",
    "    else: \n",
    "        frame = s_dfs[0]\n",
    "    \n",
    "    func = func_gen()\n",
    "    gps = df.groupby(list(keys))\n",
    "    res = []\n",
    "    for g, frame in gps:\n",
    "        g = list(g)\n",
    "        kwargs = {}\n",
    "        \n",
    "        for ser in s_ses:\n",
    "            m = [ser[keys[i]] == g[i] for i in range(len(g))]\n",
    "            fil = m[0]\n",
    "            for i in m[1:]:\n",
    "                fil = fil & i\n",
    "            kw_1 = dict(se1[fil].iloc[0])\n",
    "            for i in keys:\n",
    "                kw_1.pop(i, None)\n",
    "            kwargs.update(kw_1)\n",
    "\n",
    "        res.append(func(frame, *s_scs, **kwargs))\n",
    "    return pd.concat(res, ignore_index=True)\n",
    "    \n",
    "\n",
    "def total_example_multi(self, *sbarramenti):\n",
    "    d = locals()\n",
    "    \n",
    "    \n",
    "\n",
    "def total_framer(self, *sbarramenti):\n",
    "    f = which_function()\n",
    "    r = f(*sbarramenti)\n",
    "    r = r[columns_fun_after()]\n",
    "    r = r.rename(columns = rename_fun_after())\n",
    "    t_cell = column_type() #type of the cells in the first column\n",
    "    def filter_g(record):\n",
    "        obj = Hub.get_instance(t_cell, record.iloc[0])\n",
    "        return obj.filter(geo_loc   = self,\n",
    "                          total_name = \"nome_funz\"\n",
    "                          filters   = sbarramenti, \n",
    "                          line      = record, \n",
    "                          dataframe = r)\n",
    "    \n",
    "    f = r.apply(filter_g, axis=1)\n",
    "    return r[f]"
   ]
  },
  {
   "cell_type": "markdown",
   "metadata": {
    "cell_style": "split"
   },
   "source": [
    "+ keys_fun: it's a list of strings in the yaml\n",
    "+ func_gen:  \n",
    "+ operations_dict\n",
    "+ "
   ]
  },
  {
   "cell_type": "code",
   "execution_count": 10,
   "metadata": {
    "cell_style": "split"
   },
   "outputs": [],
   "source": [
    "def tots_syntax_sugar_parse(conf):\n",
    "    \"\"\"Totals uses a single function \n",
    "    with many subfunctions.\n",
    "\n",
    "    Manually making exceptions would be \n",
    "    cumbersome as it'd involve a lot of:\n",
    "\n",
    "    - type: fun\n",
    "      name: totals\n",
    "      args:\n",
    "        - actual_name\n",
    "\n",
    "    So, just for totals I'll add the \n",
    "    option to replace the above with:\n",
    "\n",
    "    - totals: actual_name\n",
    "\n",
    "    This will be translated by \n",
    "    this function\n",
    "    \"\"\"\n",
    "    if type(conf) != dict:\n",
    "        return conf\n",
    "    \n",
    "    if \"totals\" in conf:\n",
    "        n = conf['totals']\n",
    "        del conf['totals']\n",
    "        conf['type'] = 'fun'\n",
    "        conf['args'] = \\\n",
    "            [n] + conf.get('args', [])\n",
    "    return {k:tots_syntax_sugar_parse(v)\n",
    "              for k, v in conf.items()}"
   ]
  },
  {
   "cell_type": "code",
   "execution_count": 11,
   "metadata": {
    "cell_style": "split"
   },
   "outputs": [
    {
     "data": {
      "text/plain": [
       "{'args': [10, {'name': 'ciao', 'type': 'att'}],\n",
       " 'kwargs': {'a': {'args': ['ciao_f', 'tanto_per'],\n",
       "   'options': 'NoForward',\n",
       "   'type': 'fun'}},\n",
       " 'name': 'test',\n",
       " 'type': 'fun'}"
      ]
     },
     "execution_count": 11,
     "metadata": {},
     "output_type": "execute_result"
    }
   ],
   "source": [
    "tots_syntax_sugar_parse({'args': [10, {'name': 'ciao', 'type': 'att'}],\n",
    " 'kwargs': {'a': {'args': ['tanto_per'],\n",
    "                  'options': 'NoForward',\n",
    "                  'totals': 'ciao_f'}},\n",
    " 'name': 'test',\n",
    " 'type': 'fun'})"
   ]
  }
 ],
 "metadata": {
  "kernelspec": {
   "display_name": "Python 3",
   "language": "python",
   "name": "python3"
  },
  "language_info": {
   "codemirror_mode": {
    "name": "ipython",
    "version": 3
   },
   "file_extension": ".py",
   "mimetype": "text/x-python",
   "name": "python",
   "nbconvert_exporter": "python",
   "pygments_lexer": "ipython3",
   "version": "3.8.1"
  },
  "pycharm": {
   "stem_cell": {
    "cell_type": "raw",
    "source": [],
    "metadata": {
     "collapsed": false
    }
   }
  }
 },
 "nbformat": 4,
 "nbformat_minor": 2
}