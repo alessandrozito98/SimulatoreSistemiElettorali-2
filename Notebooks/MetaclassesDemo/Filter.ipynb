{
 "cells": [
  {
   "cell_type": "markdown",
   "metadata": {},
   "source": [
    " Filter\n",
    "\n",
    "This class exposes the following method: `filter(geo_loc. total_name, filters, line, dataframe)` where:\n",
    "+ `geo_loc` is an instance of a geographical location\n",
    "+ `total_name` is the name of the function calling\n",
    "+ `filters` is a list of strings\n",
    "+ `line` is a pandas series whose first cell is the name of the filtering object\n",
    "+ `dataframe` is a pandas dataframe containing `line` as a record\n",
    "\n",
    "Which will take the information and return True if the result should be filtered or not"
   ]
  },
  {
   "cell_type": "markdown",
   "metadata": {},
   "source": [
    "A filter can be based on the local "
   ]
  },
  {
   "cell_type": "code",
   "execution_count": null,
   "metadata": {},
   "outputs": [],
   "source": []
  },
  {
   "cell_type": "code",
   "execution_count": 2,
   "metadata": {},
   "outputs": [],
   "source": [
    "def condition_dataframe(dataframe, column_key, column_val, criteria, logic, target_k, target_v):\n",
    "    divisor = 1\n",
    "    if logic == 'relative':\n",
    "        divisor = dataframe[column_val].sum()\n",
    "    \n",
    "    v = dataframe[dataframe[column_key]==target_k][column_val][0]\n",
    "    v = v/divisor\n",
    "    if criteria == '>':\n",
    "        return v > target_v\n",
    "    if criteria == '<':\n",
    "        return v < target_v\n",
    "    if criteria == '=':\n",
    "        return v == target_v\n",
    "    raise Exception(\"Invalid criteria\", criteria)\n",
    "    \n",
    "def condition_val(val, criteria, logic, target_v):\n",
    "    if logic == 'result':\n",
    "        v = val\n",
    "    elif logic == 'sum':\n",
    "        v = sum(val)\n",
    "    elif logic == 'len':\n",
    "        v = len(val)\n",
    "    else:\n",
    "        raise Exception(\"Invalid logic\", logic)\n",
    "    if criteria == '>':\n",
    "        return v > target_v\n",
    "    if criteria == '<':\n",
    "        return v < target_v\n",
    "    if criteria == '=':\n",
    "        return v == target_v\n",
    "    raise Exception(\"Invalid criteria\", criteria)"
   ]
  },
  {
   "cell_type": "code",
   "execution_count": null,
   "metadata": {},
   "outputs": [],
   "source": [
    "class Partito:\n",
    "    def __init__(self, name, coalizione=None):\n",
    "        self.name = name\n",
    "        self.coalizione = coalizione\n",
    "        \n",
    "    def filter_eletta_sola(self, **kwargs):\n",
    "        tots = Hub.get_inst_fun('Nazione', 'Italia', 'totals')\n",
    "        votes = tots('liste')\n",
    "        return condition_dataframe(votes, \n",
    "                                   'Lista',\n",
    "                                   'Voti', \n",
    "                                   '>', \n",
    "                                   'relative', \n",
    "                                   self.name, \n",
    "                                   0.03)\n",
    "    \n",
    "    def filter_concorre(self, **kwargs):\n",
    "        tots = Hub.get_inst_fun('Nazione', 'Italia', 'totals')\n",
    "        votes = tots('liste')\n",
    "        return condition_dataframe(votes, \n",
    "                                   'Lista',\n",
    "                                   'Voti', \n",
    "                                   '>', \n",
    "                                   'relative', \n",
    "                                   self.name, \n",
    "                                   0.01)\n",
    "    \n",
    "    def filter_eletta_coal(self, **kwargs):\n",
    "        coal_el = Hub.get_instance('Coalizione', self.coalizione).filter('eletta')\n",
    "        if not coal_el:\n",
    "            return False\n",
    "        top_lev = Hub.get_instance('Nazione', 'Italia').totals('lista')\n",
    "        \n",
    "    \n",
    "    def filter_eletta(self, **kwargs):\n",
    "        return self.filter_eletta_sola() or self.filter_eletta_coal()\n",
    "\n",
    "class PartitoRegionale:\n",
    "    def __init__(self, name, regione, coalizione=None):\n",
    "        self.name = name\n",
    "        self.regione = regione\n",
    "        self.coalizione = coalizione\n",
    "    \n",
    "    def filter_eletta\n",
    "\n",
    "class Coalizione:\n",
    "    def __init__(self, name, partiti):\n",
    "        self.name = name\n",
    "        self.partiti = partiti\n",
    "        \n",
    "    def filter_concorre(self, **kwargs):\n",
    "        return True "
   ]
  }
 ],
 "metadata": {
  "kernelspec": {
   "display_name": "Python 3",
   "language": "python",
   "name": "python3"
  },
  "language_info": {
   "codemirror_mode": {
    "name": "ipython",
    "version": 3
   },
   "file_extension": ".py",
   "mimetype": "text/x-python",
   "name": "python",
   "nbconvert_exporter": "python",
   "pygments_lexer": "ipython3",
   "version": "3.8.1"
  },
  "pycharm": {
   "stem_cell": {
    "cell_type": "raw",
    "source": [],
    "metadata": {
     "collapsed": false
    }
   }
  }
 },
 "nbformat": 4,
 "nbformat_minor": 2
}