{
 "cells": [
  {
   "cell_type": "code",
   "execution_count": 1,
   "metadata": {
    "pycharm": {
     "is_executing": false
    }
   },
   "outputs": [],
   "source": [
    "import sys\n",
    "sys.path.insert(1, '/home/lruffati/Documents/0.University/0.SistemiElettorali/')\n",
    "import src\n",
    "\n",
    "from src.Metaclasses import *\n",
    "import src.GlobalVars as GlobalVars\n",
    "import random"
   ]
  },
  {
   "cell_type": "code",
   "execution_count": 2,
   "metadata": {
    "pycharm": {
     "is_executing": false
    }
   },
   "outputs": [],
   "source": [
    "class HubC:\n",
    "    def __init__(self, *args):\n",
    "        self.instances_dict = {}\n",
    "        self.subs_relations = {}\n",
    "    \n",
    "    def get_subdivisions(self, sup, sub_name):\n",
    "        \"\"\"\n",
    "        sup: o un'istanza di una geoEnt, o una tupla (nomeClasse, nomeIstanza)\n",
    "        sub_name: nome classe target\n",
    "\n",
    "        return: list of names (stringhe)\n",
    "        \"\"\"\n",
    "        print(sup, sub_name)\n",
    "        typ = None\n",
    "        inst = sup\n",
    "        if type(sup) == tuple:\n",
    "            typ = sup[0]\n",
    "            inst = self.get_instance(typ, sup[1])\n",
    "        else:\n",
    "            typ = sup.type\n",
    "            name = sup.name\n",
    "        \n",
    "        var_name = self.subs_relations[typ][sub_name]\n",
    "        \n",
    "        print(\"getattr \", inst, var_name)\n",
    "        var_deb = inst\n",
    "        return getattr(inst, var_name)\n",
    "    \n",
    "    def get_superdivision(self, sub, sup_name):\n",
    "        \"\"\"\n",
    "        sub: o un'istanza o una tuple\n",
    "        sup_name: nome classe target\n",
    "\n",
    "        return nome istanza target\n",
    "        \"\"\"\n",
    "        pass\n",
    "\n",
    "    def add_instance(self, class_name, inst_name, instance):\n",
    "        instances = self.instances_dict.get(class_name, {})\n",
    "        instances[inst_name] = instance\n",
    "        self.instances_dict[class_name] = instances\n",
    "    \n",
    "    def get_instance(self, class_name, inst_name):\n",
    "        print(\"Get inst: \", class_name, inst_name)\n",
    "        return self.instances_dict[class_name][inst_name]\n",
    "\n",
    "    def add_subdiv(self, sup_type, sub_type, var_name):\n",
    "        \"\"\"\n",
    "        Records that instances of sup_type have instances of sub_type \n",
    "        stored in self.var_name\n",
    "        \"\"\"\n",
    "        print(\"Adding sub: \",sup_type, sub_type, var_name)\n",
    "        sup_dict = self.subs_relations.get(sup_type, {})\n",
    "        sup_dict[sub_type] = var_name\n",
    "        self.subs_relations[sup_type]= sup_dict\n",
    "        \n",
    "        "
   ]
  },
  {
   "cell_type": "code",
   "execution_count": 3,
   "metadata": {
    "pycharm": {
     "is_executing": false
    }
   },
   "outputs": [],
   "source": [
    "import pandas as pd\n",
    "df1 = pd.DataFrame({'a':[1,2,3], 'b':[4,5,6]})\n",
    "df2 = pd.DataFrame({'a':[11,12,13], 'b':[14,15,16]})\n",
    "hub1 = HubC()\n",
    "hub2 = HubC(1,2,3,4)"
   ]
  },
  {
   "cell_type": "code",
   "execution_count": 4,
   "metadata": {},
   "outputs": [],
   "source": [
    "src.GlobalVars.Hub = hub1"
   ]
  },
  {
   "cell_type": "code",
   "execution_count": 5,
   "metadata": {
    "pycharm": {
     "is_executing": false
    }
   },
   "outputs": [],
   "source": [
    "class example:\n",
    "    def __init__(self, val):\n",
    "        #print(\"Instance ex\")\n",
    "        self.v = val\n",
    "        self.id = random.randint(1,100)\n",
    "        src.GlobalVars.Hub.add_instance(\"Plurinominale\", self.id, self)\n",
    "    \n",
    "    def totals(self, *args, **kwargs):\n",
    "        # print(\"Example: \",self.id)\n",
    "        print(\"Funzione chiamata con: \", args, kwargs)\n",
    "        # print(\"Funzione: \", self.v)\n",
    "        return self.v"
   ]
  },
  {
   "cell_type": "code",
   "execution_count": 9,
   "metadata": {
    "pycharm": {
     "is_executing": false
    }
   },
   "outputs": [],
   "source": [
    "class cleanup(type):\n",
    "    def __new__(mcs, *args, **kwargs):\n",
    "        print(\"Conf cleanup: \", args, kwargs)\n",
    "        if '__init__' in args[2]:\n",
    "            o_init = args[2].get('__init__')\n",
    "            def n__init__(self, name, **kwargs):\n",
    "                print(\"Init cleanup preesistente\")\n",
    "                src.GlobalVars.Hub.add_instance(args[0], name, self)\n",
    "                self.name = name\n",
    "                return o_init(self, [], **kwargs)\n",
    "            args[2]['__init__'] = n__init__\n",
    "        else:\n",
    "            def n_init__(self, name, **kwargs):\n",
    "                print(\"init cleanup nuovo\")\n",
    "                self.name = name\n",
    "                src.GlobalVars.Hub.add_instance(args[0], name, self)\n",
    "            \n",
    "            args[2]['__init__'] = n_init__\n",
    "        \n",
    "        args[2]['type'] = args[0]\n",
    "        \n",
    "        return super().__new__(mcs, *args)\n",
    "\n",
    "metas = tuple([superdivision, totals, lanes, external, cleanup])\n",
    "comb = type(\"combinata\", metas, {})"
   ]
  },
  {
   "cell_type": "code",
   "execution_count": 11,
   "metadata": {
    "code_folding": [
     0
    ]
   },
   "outputs": [],
   "source": [
    "conf = {'lane': {'plurinominale': {'first_input': 'kwarg',\n",
    "                            'info_name': 'Circoscrizione',\n",
    "                            'node_type': 'node',\n",
    "                            'operations': [{'collect_type': 'lista',\n",
    "                                            'corrector': 'commons.correct',\n",
    "                                            'ideal_distribution': '$'}],\n",
    "                            'sub_level': 'Plurinominale'}},\n",
    " 'lanes_propose': {'elettori': {'distribution': ['Elettore', 'Seggi'],\n",
    "                                'info': ['RestoCircoCoal',\n",
    "                                         'RestoCircoCoalUsato'],\n",
    "                                'source': {'args': [{'source': {'columns': ['Elettore -> Party',\n",
    "                                                                            'Voti -> Votes'],\n",
    "                                                                'name': 'self.eleggibili',\n",
    "                                                                'type': 'fun'}},\n",
    "                                                    {'source': {'name': 'self.subs_plurinominali_seggi',\n",
    "                                                                'type': 'fun'}}],\n",
    "                                           'columns': ['Party -> Elettore',\n",
    "                                                       'Seats -> Seggi',\n",
    "                                                       'Remainder -> RestoCircoCoal',\n",
    "                                                       'RemainderUsed -> RestoCircoCoalUsato'],\n",
    "                                           'name': 'commons.hondt',\n",
    "                                           'type': 'fun'}},\n",
    "                   'liste': {'distribution': ['Lista', 'Seggi'],\n",
    "                             'info': ['RestoCircoLista',\n",
    "                                      'RestoCircoListaUsato'],\n",
    "                             'source': {'kwargs': {'seggi': {'source': {'name': 'constraints',\n",
    "                                                                        'type': 'kwarg'}}},\n",
    "                                        'name': 'self.ripartisci_seggi',\n",
    "                                        'type': 'fun'}}},\n",
    " 'metaclasses': ['superdivision', 'totals', 'lanes', 'external'],\n",
    " 'subdivisions': {'plurinominali': {'functions': [{'name': 'seggi',\n",
    "                                                   'source': {'name': 'self.seggi',\n",
    "                                                              'type': 'att'}},\n",
    "                                                  {'name': 'liste',\n",
    "                                                   'source': {'totals': 'lista'}},\n",
    "                                                  {'name': 'coalizioni',\n",
    "                                                   'source': {'totals': 'coalizione'}}],\n",
    "                                    'type': 'Plurinominale'}},\n",
    " 'totals': {'coalizione': {'keys': ['Coalizione'],\n",
    "                           'ops': {'Voti': 'sum'},\n",
    "                           'source': {'name': 'self.subs_plurinominali_coalizioni',\n",
    "                                      'type': 'fun'},\n",
    "                           'type': 'aggregate'},\n",
    "            'lista': {'keys': ['Lista'],\n",
    "                      'ops': {'Voti': 'sum'},\n",
    "                      'source': {'name': 'self.subs_plurinominali_liste',\n",
    "                                 'type': 'fun'},\n",
    "                      'type': 'aggregate'}},\n",
    " 'totals_support': {'eleggibili': {'args': [{'source': {'args': ['coal_eletta'],\n",
    "                                                        'columns': ['Coalizione -> Elettore',\n",
    "                                                                    'Voti'],\n",
    "                                                        'totals': 'coalizione'},\n",
    "                                             'type': 'scalar'},\n",
    "                                            {'source': {'args': ['eletta_sola'],\n",
    "                                                        'columns': ['Lista -> Elettore',\n",
    "                                                                    'Voti'],\n",
    "                                                        'totals': 'lista'},\n",
    "                                             'type': 'scalar'}],\n",
    "                                   'function': 'commons.concat',\n",
    "                                   'type': 'combine'},\n",
    "                    'elettore_lista': {'ops': [{'column': 'Lista',\n",
    "                                                'column_type': 'Partito',\n",
    "                                                'replace_name': 'Elettore',\n",
    "                                                'source': {'attr': ['elettore'],\n",
    "                                                           'name': 'commons.exec_fun',\n",
    "                                                           'type': 'fun'},\n",
    "                                                'type': 'column'}],\n",
    "                                       'source': {'totals': 'lista'},\n",
    "                                       'type': 'transform'},\n",
    "                    'ripartisci_seggi': {'args': [{'source': {'args': ['eletta'],\n",
    "                                                              'rename': {'Lista': 'Party',\n",
    "                                                                         'Voti': 'Votes'},\n",
    "                                                              'totals': 'lista'},\n",
    "                                                   'type': 'dataframe'},\n",
    "                                                  {'source': {'columns': ['Lista -> Party',\n",
    "                                                                          'Elettore'],\n",
    "                                                              'name': 'self.elettore_lista',\n",
    "                                                              'type': 'fun'},\n",
    "                                                   'type': 'dataframe'},\n",
    "                                                  {'source': {'columns': ['Elettore',\n",
    "                                                                          'Seggi -> seats'],\n",
    "                                                              'name': 'seggi',\n",
    "                                                              'type': 'kwarg'},\n",
    "                                                   'type': 'series'}],\n",
    "                                         'function': 'commons.hondt',\n",
    "                                         'keys': ['Elettore'],\n",
    "                                         'merge_keys': ['Party'],\n",
    "                                         'rename': {'Party': 'Lista',\n",
    "                                                    'Remainder': 'RestoCircoLista',\n",
    "                                                    'RemainderUsed': 'RestoCircoListaUsato',\n",
    "                                                    'Seats': 'Seggi'},\n",
    "                                         'type': 'combine'}}}"
   ]
  },
  {
   "cell_type": "code",
   "execution_count": 12,
   "metadata": {},
   "outputs": [
    {
     "name": "stdout",
     "output_type": "stream",
     "text": [
      "Functions before:  [{'name': 'seggi', 'source': {'name': 'self.seggi', 'type': 'att'}}, {'name': 'liste', 'source': {'totals': 'lista'}}, {'name': 'coalizioni', 'source': {'totals': 'coalizione'}}]\n",
      "fun conf:  {'name': 'seggi', 'source': {'name': 'self.seggi', 'type': 'att'}}\n",
      "fun conf:  {'name': 'liste', 'source': {'totals': 'lista'}}\n",
      "fun conf:  {'name': 'coalizioni', 'source': {'totals': 'coalizione'}}\n",
      "Functions after:  [{'name': 'seggi', 'source': {'source': {'name': 'self.seggi', 'type': 'att'}, 'type': 'fun'}}, {'name': 'liste', 'source': {'source': {'totals': 'lista'}, 'type': 'fun'}}, {'name': 'coalizioni', 'source': {'source': {'totals': 'coalizione'}, 'type': 'fun'}}]\n"
     ]
    }
   ],
   "source": [
    "for mcs in metas:\n",
    "    if hasattr(mcs, 'parse_conf'):\n",
    "        conf = mcs.parse_conf(conf)"
   ]
  },
  {
   "cell_type": "code",
   "execution_count": 13,
   "metadata": {},
   "outputs": [
    {
     "data": {
      "text/plain": [
       "{'lane': {'plurinominale': {'first_input': 'kwarg',\n",
       "   'info_name': 'Circoscrizione',\n",
       "   'node_type': 'node',\n",
       "   'operations': [{'collect_type': 'lista',\n",
       "     'corrector': 'commons.correct',\n",
       "     'ideal_distribution': '$'}],\n",
       "   'sub_level': 'Plurinominale'}},\n",
       " 'lanes_propose': {'elettori': {'distribution': ['Elettore', 'Seggi'],\n",
       "   'info': ['RestoCircoCoal', 'RestoCircoCoalUsato'],\n",
       "   'source': {'args': [{'source': {'columns': ['Elettore -> Party',\n",
       "        'Voti -> Votes'],\n",
       "       'name': 'self.eleggibili',\n",
       "       'type': 'fun'}},\n",
       "     {'source': {'name': 'self.subs_plurinominali_seggi', 'type': 'fun'}}],\n",
       "    'columns': ['Party -> Elettore',\n",
       "     'Seats -> Seggi',\n",
       "     'Remainder -> RestoCircoCoal',\n",
       "     'RemainderUsed -> RestoCircoCoalUsato'],\n",
       "    'name': 'commons.hondt',\n",
       "    'type': 'fun'}},\n",
       "  'liste': {'distribution': ['Lista', 'Seggi'],\n",
       "   'info': ['RestoCircoLista', 'RestoCircoListaUsato'],\n",
       "   'source': {'kwargs': {'seggi': {'source': {'name': 'constraints',\n",
       "       'type': 'kwarg'}}},\n",
       "    'name': 'self.ripartisci_seggi',\n",
       "    'type': 'fun'}}},\n",
       " 'metaclasses': ['superdivision', 'totals', 'lanes', 'external'],\n",
       " 'subdivisions': {'plurinominali': {'functions': [{'name': 'seggi',\n",
       "     'source': {'source': {'name': 'self.seggi', 'type': 'att'},\n",
       "      'type': 'fun'}},\n",
       "    {'name': 'liste',\n",
       "     'source': {'source': {'totals': 'lista'}, 'type': 'fun'}},\n",
       "    {'name': 'coalizioni',\n",
       "     'source': {'source': {'totals': 'coalizione'}, 'type': 'fun'}}],\n",
       "   'type': 'Plurinominale'}},\n",
       " 'totals': {'coalizione': {'keys': ['Coalizione'],\n",
       "   'ops': {'Voti': 'sum'},\n",
       "   'source': {'name': 'self.subs_plurinominali_coalizioni', 'type': 'fun'},\n",
       "   'type': 'aggregate'},\n",
       "  'lista': {'keys': ['Lista'],\n",
       "   'ops': {'Voti': 'sum'},\n",
       "   'source': {'name': 'self.subs_plurinominali_liste', 'type': 'fun'},\n",
       "   'type': 'aggregate'}},\n",
       " 'totals_support': {'eleggibili': {'args': [{'source': {'args': ['coalizione',\n",
       "       'coal_eletta'],\n",
       "      'columns': ['Coalizione -> Elettore', 'Voti'],\n",
       "      'type': 'fun',\n",
       "      'name': 'self.totals'},\n",
       "     'type': 'scalar'},\n",
       "    {'source': {'args': ['lista', 'eletta_sola'],\n",
       "      'columns': ['Lista -> Elettore', 'Voti'],\n",
       "      'type': 'fun',\n",
       "      'name': 'self.totals'},\n",
       "     'type': 'scalar'}],\n",
       "   'function': 'commons.concat',\n",
       "   'type': 'combine'},\n",
       "  'elettore_lista': {'ops': [{'column': 'Lista',\n",
       "     'column_type': 'Partito',\n",
       "     'replace_name': 'Elettore',\n",
       "     'source': {'attr': ['elettore'],\n",
       "      'name': 'commons.exec_fun',\n",
       "      'type': 'fun'},\n",
       "     'type': 'column'}],\n",
       "   'source': {'type': 'fun', 'name': 'self.totals', 'args': ['lista']},\n",
       "   'type': 'transform'},\n",
       "  'ripartisci_seggi': {'args': [{'source': {'args': ['lista', 'eletta'],\n",
       "      'rename': {'Lista': 'Party', 'Voti': 'Votes'},\n",
       "      'type': 'fun',\n",
       "      'name': 'self.totals'},\n",
       "     'type': 'dataframe'},\n",
       "    {'source': {'columns': ['Lista -> Party', 'Elettore'],\n",
       "      'name': 'self.elettore_lista',\n",
       "      'type': 'fun'},\n",
       "     'type': 'dataframe'},\n",
       "    {'source': {'columns': ['Elettore', 'Seggi -> seats'],\n",
       "      'name': 'seggi',\n",
       "      'type': 'kwarg'},\n",
       "     'type': 'series'}],\n",
       "   'function': 'commons.hondt',\n",
       "   'keys': ['Elettore'],\n",
       "   'merge_keys': ['Party'],\n",
       "   'rename': {'Party': 'Lista',\n",
       "    'Remainder': 'RestoCircoLista',\n",
       "    'RemainderUsed': 'RestoCircoListaUsato',\n",
       "    'Seats': 'Seggi'},\n",
       "   'type': 'combine'}}}"
      ]
     },
     "execution_count": 13,
     "metadata": {},
     "output_type": "execute_result"
    }
   ],
   "source": [
    "conf"
   ]
  },
  {
   "cell_type": "code",
   "execution_count": null,
   "metadata": {
    "scrolled": true
   },
   "outputs": [],
   "source": [
    "print(\"Expanded: \",conf)\n",
    "confparse = src.Metaclasses.sources_parse.source_parse(conf)"
   ]
  },
  {
   "cell_type": "code",
   "execution_count": null,
   "metadata": {},
   "outputs": [],
   "source": [
    "confparse"
   ]
  },
  {
   "cell_type": "code",
   "execution_count": null,
   "metadata": {},
   "outputs": [],
   "source": [
    "class Circoscrizione(metaclass=comb, totals={},**confparse):\n",
    "    def example_manual_fun(self, inp, out):\n",
    "        print(inp)\n",
    "        return out"
   ]
  },
  {
   "cell_type": "code",
   "execution_count": null,
   "metadata": {},
   "outputs": [],
   "source": [
    "Circoscrizione = comb(\"Circoscrizione\", (), {}, **confparse)"
   ]
  },
  {
   "cell_type": "code",
   "execution_count": null,
   "metadata": {},
   "outputs": [],
   "source": [
    "a1 = example(df1)\n",
    "a2 = example(df2)"
   ]
  },
  {
   "cell_type": "code",
   "execution_count": null,
   "metadata": {
    "scrolled": true
   },
   "outputs": [],
   "source": [
    "c = Circoscrizione(\"Ciao\", plurinominali=[a1.id, a2.id])"
   ]
  },
  {
   "cell_type": "code",
   "execution_count": null,
   "metadata": {},
   "outputs": [],
   "source": [
    "c."
   ]
  },
  {
   "cell_type": "code",
   "execution_count": null,
   "metadata": {},
   "outputs": [],
   "source": [
    "c.subs_liste()"
   ]
  },
  {
   "cell_type": "code",
   "execution_count": null,
   "metadata": {},
   "outputs": [],
   "source": [
    "src.GlobalVars.Hub.get_subdivisions((\"Circoscrizione\", \"Ciao\"), \"Plurinominale\")"
   ]
  },
  {
   "cell_type": "code",
   "execution_count": null,
   "metadata": {},
   "outputs": [],
   "source": []
  },
  {
   "cell_type": "code",
   "execution_count": null,
   "metadata": {},
   "outputs": [],
   "source": []
  },
  {
   "cell_type": "code",
   "execution_count": null,
   "metadata": {},
   "outputs": [],
   "source": []
  }
 ],
 "metadata": {
  "kernelspec": {
   "display_name": "Python 3",
   "language": "python",
   "name": "python3"
  },
  "language_info": {
   "codemirror_mode": {
    "name": "ipython",
    "version": 3
   },
   "file_extension": ".py",
   "mimetype": "text/x-python",
   "name": "python",
   "nbconvert_exporter": "python",
   "pygments_lexer": "ipython3",
   "version": "3.8.1"
  }
 },
 "nbformat": 4,
 "nbformat_minor": 2
}