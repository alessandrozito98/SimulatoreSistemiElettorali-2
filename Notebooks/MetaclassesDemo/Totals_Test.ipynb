{
 "cells": [
  {
   "cell_type": "code",
   "execution_count": 1,
   "metadata": {},
   "outputs": [],
   "source": [
    "import sys\n",
    "sys.path.insert(1, '/home/lruffati/Documents/0.University/0.SistemiElettorali/')\n",
    "import src\n",
    "\n",
    "from src.Metaclasses import *\n",
    "import src.GlobalVars as GlobalVars\n",
    "import random\n",
    "import pandas as pd"
   ]
  },
  {
   "cell_type": "markdown",
   "metadata": {},
   "source": [
    "# Test totals_support circoscrizione\n"
   ]
  },
  {
   "cell_type": "code",
   "execution_count": 2,
   "metadata": {
    "code_folding": []
   },
   "outputs": [],
   "source": [
    "conf = {'args': [{'source': {'args': ['liste', 'eletta'],\n",
    "                      'name': 'self.totals',\n",
    "                      'rename': {'Lista': 'Party', 'Voti': 'Votes'},\n",
    "                      'type': 'fun'},\n",
    "           'type': 'dataframe'},\n",
    "          {'source': {'columns': ['Lista -> Party',\n",
    "                                  'Elettore -> Coalizione'],\n",
    "                      'name': 'self.elettore_lista',\n",
    "                      'type': 'fun'},\n",
    "           'type': 'dataframe'},\n",
    "          {'source': {'name': 'seggi',\n",
    "                      'rename': {'Elettore': 'Coalizione',\n",
    "                                 'Seggi': 'seats'},\n",
    "                      'type': 'kwarg'},\n",
    "           'type': 'series'}],\n",
    " 'function': 'src.GlobalVars.hondt',\n",
    " 'merge_keys': ['Party'],\n",
    " 'keys': ['Coalizione'],\n",
    " 'type': 'combine'}\n",
    "\n",
    "def hondt(df, seats, **kwargs):\n",
    "    print(\"Argomenti hondt: \", df, seats, kwargs)\n",
    "    print(\"------------\")\n",
    "    df = df.copy()\n",
    "    df['Seats'] = seats\n",
    "    df['Remainder'] = 0\n",
    "    df['RemainderUsed'] = False\n",
    "    return df\n",
    "\n",
    "GlobalVars.hondt = hondt"
   ]
  },
  {
   "cell_type": "code",
   "execution_count": 3,
   "metadata": {},
   "outputs": [
    {
     "name": "stdout",
     "output_type": "stream",
     "text": [
      "Parsing conf:  {'args': [{'source': {'args': ['liste', 'eletta'], 'name': 'self.totals', 'rename': {'Lista': 'Party', 'Voti': 'Votes'}, 'type': 'fun'}, 'type': 'dataframe'}, {'source': {'columns': ['Lista -> Party', 'Elettore -> Coalizione'], 'name': 'self.elettore_lista', 'type': 'fun'}, 'type': 'dataframe'}, {'source': {'name': 'seggi', 'rename': {'Elettore': 'Coalizione', 'Seggi': 'seats'}, 'type': 'kwarg'}, 'type': 'series'}], 'function': 'src.GlobalVars.hondt', 'merge_keys': ['Party'], 'keys': ['Coalizione'], 'type': 'combine'}\n",
      "prova,  dict_keys(['args', 'function', 'merge_keys', 'keys', 'type'])\n",
      "Parsing conf:  [{'source': {'args': ['liste', 'eletta'], 'name': 'self.totals', 'rename': {'Lista': 'Party', 'Voti': 'Votes'}, 'type': 'fun'}, 'type': 'dataframe'}, {'source': {'columns': ['Lista -> Party', 'Elettore -> Coalizione'], 'name': 'self.elettore_lista', 'type': 'fun'}, 'type': 'dataframe'}, {'source': {'name': 'seggi', 'rename': {'Elettore': 'Coalizione', 'Seggi': 'seats'}, 'type': 'kwarg'}, 'type': 'series'}]\n",
      "Parsing conf:  {'source': {'args': ['liste', 'eletta'], 'name': 'self.totals', 'rename': {'Lista': 'Party', 'Voti': 'Votes'}, 'type': 'fun'}, 'type': 'dataframe'}\n",
      "prova,  dict_keys(['source', 'type'])\n",
      "Parsing conf:  {'args': ['liste', 'eletta'], 'name': 'self.totals', 'rename': {'Lista': 'Party', 'Voti': 'Votes'}, 'type': 'fun'}\n",
      "In source\n",
      "Parsing fun:  self.totals ['liste', 'eletta'] None {'rename': {'Lista': 'Party', 'Voti': 'Votes'}, 'type': 'fun'}\n",
      "Parsing conf:  liste\n",
      "In source\n",
      "Parsing conf:  eletta\n",
      "In source\n",
      "Parsing conf:  dataframe\n",
      "Parsing conf:  {'source': {'columns': ['Lista -> Party', 'Elettore -> Coalizione'], 'name': 'self.elettore_lista', 'type': 'fun'}, 'type': 'dataframe'}\n",
      "prova,  dict_keys(['source', 'type'])\n",
      "Parsing conf:  {'columns': ['Lista -> Party', 'Elettore -> Coalizione'], 'name': 'self.elettore_lista', 'type': 'fun'}\n",
      "In source\n",
      "Parsing fun:  self.elettore_lista None None {'columns': ['Lista -> Party', 'Elettore -> Coalizione'], 'type': 'fun'}\n",
      "Parsing conf:  dataframe\n",
      "Parsing conf:  {'source': {'name': 'seggi', 'rename': {'Elettore': 'Coalizione', 'Seggi': 'seats'}, 'type': 'kwarg'}, 'type': 'series'}\n",
      "prova,  dict_keys(['source', 'type'])\n",
      "Parsing conf:  {'name': 'seggi', 'rename': {'Elettore': 'Coalizione', 'Seggi': 'seats'}, 'type': 'kwarg'}\n",
      "In source\n",
      "Parsing conf:  series\n",
      "Parsing conf:  src.GlobalVars.hondt\n",
      "Parsing conf:  ['Party']\n",
      "Parsing conf:  Party\n",
      "Parsing conf:  ['Coalizione']\n",
      "Parsing conf:  Coalizione\n",
      "Parsing conf:  combine\n"
     ]
    }
   ],
   "source": [
    "conf = sources_parse.source_parse(conf)\n",
    "comb_tot = src.Metaclasses.totals.parse_combination(False, **conf)"
   ]
  },
  {
   "cell_type": "code",
   "execution_count": 4,
   "metadata": {},
   "outputs": [
    {
     "data": {
      "text/plain": [
       "<function src.Metaclasses.totals.totals.parse_combination.<locals>.comb_support(locs, *args, **kwargs)>"
      ]
     },
     "execution_count": 4,
     "metadata": {},
     "output_type": "execute_result"
    }
   ],
   "source": [
    "comb_tot"
   ]
  },
  {
   "cell_type": "code",
   "execution_count": 4,
   "metadata": {
    "scrolled": true
   },
   "outputs": [
    {
     "name": "stdout",
     "output_type": "stream",
     "text": [
      "ret_fun_parse: [<function source_parse.<locals>.simple_res at 0x7f0df4f89a60>, <function source_parse.<locals>.simple_res at 0x7f0df4f89e50>]\n",
      "Locals prima di cercare la funzione:  {'self': <__main__.FakeCirco object at 0x7f0e1a2bfb80>, 'kwargs': {'seggi':   Elettore  Seggi\n",
      "0        a      6\n",
      "1        b     12\n",
      "2        c      9}}\n",
      "Cerco funzione:  self.totals\n",
      "<bound method FakeCirco.totals of <__main__.FakeCirco object at 0x7f0e1a2bfb80>>\n",
      "fake totals filters:  ('eletta',)\n",
      "ret_fun_parse: []\n",
      "Locals prima di cercare la funzione:  {'self': <__main__.FakeCirco object at 0x7f0e1a2bfb80>, 'kwargs': {'seggi':   Elettore  Seggi\n",
      "0        a      6\n",
      "1        b     12\n",
      "2        c      9}}\n",
      "Cerco funzione:  self.elettore_lista\n",
      "<bound method FakeCirco.elettore_lista of <__main__.FakeCirco object at 0x7f0e1a2bfb80>>\n",
      "Ops arguments:  [  Party  Votes\n",
      "0     a     10\n",
      "1     b     20\n",
      "2     d      8\n",
      "3     e      7,   Party Coalizione\n",
      "0     a          a\n",
      "1     b          b\n",
      "2     d          c\n",
      "3     e          c] [  Coalizione  seats\n",
      "0          a      6\n",
      "1          b     12\n",
      "2          c      9] []\n",
      "Argomenti hondt:    Party  Votes Coalizione\n",
      "0     a     10          a 6 {}\n",
      "------------\n",
      "Argomenti hondt:    Party  Votes Coalizione\n",
      "1     b     20          b 12 {}\n",
      "------------\n",
      "Argomenti hondt:    Party  Votes Coalizione\n",
      "2     d      8          c\n",
      "3     e      7          c 9 {}\n",
      "------------\n"
     ]
    },
    {
     "data": {
      "text/html": [
       "<div>\n",
       "<style scoped>\n",
       "    .dataframe tbody tr th:only-of-type {\n",
       "        vertical-align: middle;\n",
       "    }\n",
       "\n",
       "    .dataframe tbody tr th {\n",
       "        vertical-align: top;\n",
       "    }\n",
       "\n",
       "    .dataframe thead th {\n",
       "        text-align: right;\n",
       "    }\n",
       "</style>\n",
       "<table border=\"1\" class=\"dataframe\">\n",
       "  <thead>\n",
       "    <tr style=\"text-align: right;\">\n",
       "      <th></th>\n",
       "      <th>Party</th>\n",
       "      <th>Votes</th>\n",
       "      <th>Coalizione</th>\n",
       "      <th>Seats</th>\n",
       "      <th>Remainder</th>\n",
       "      <th>RemainderUsed</th>\n",
       "    </tr>\n",
       "  </thead>\n",
       "  <tbody>\n",
       "    <tr>\n",
       "      <th>0</th>\n",
       "      <td>a</td>\n",
       "      <td>10</td>\n",
       "      <td>a</td>\n",
       "      <td>6</td>\n",
       "      <td>0</td>\n",
       "      <td>False</td>\n",
       "    </tr>\n",
       "    <tr>\n",
       "      <th>1</th>\n",
       "      <td>b</td>\n",
       "      <td>20</td>\n",
       "      <td>b</td>\n",
       "      <td>12</td>\n",
       "      <td>0</td>\n",
       "      <td>False</td>\n",
       "    </tr>\n",
       "    <tr>\n",
       "      <th>2</th>\n",
       "      <td>d</td>\n",
       "      <td>8</td>\n",
       "      <td>c</td>\n",
       "      <td>9</td>\n",
       "      <td>0</td>\n",
       "      <td>False</td>\n",
       "    </tr>\n",
       "    <tr>\n",
       "      <th>3</th>\n",
       "      <td>e</td>\n",
       "      <td>7</td>\n",
       "      <td>c</td>\n",
       "      <td>9</td>\n",
       "      <td>0</td>\n",
       "      <td>False</td>\n",
       "    </tr>\n",
       "  </tbody>\n",
       "</table>\n",
       "</div>"
      ],
      "text/plain": [
       "  Party  Votes Coalizione  Seats  Remainder  RemainderUsed\n",
       "0     a     10          a      6          0          False\n",
       "1     b     20          b     12          0          False\n",
       "2     d      8          c      9          0          False\n",
       "3     e      7          c      9          0          False"
      ]
     },
     "execution_count": 4,
     "metadata": {},
     "output_type": "execute_result"
    }
   ],
   "source": [
    "class FakeCirco:\n",
    "    def elettore_lista(self):\n",
    "        return pd.DataFrame({'Lista':['a','b','d','e'], 'Elettore':['a','b','c','c']})\n",
    "    \n",
    "    def totals(self, typ, *filt):\n",
    "        print(\"fake totals filters: \", filt)\n",
    "        if typ == \"liste\":\n",
    "            return pd.DataFrame({'Lista':['a','b','d','e'], 'Voti':[10,20,8,7]})\n",
    "\n",
    "f = FakeCirco()\n",
    "    \n",
    "def wrapper_fun(self, **kwargs):\n",
    "    return comb_tot({'self':self, 'kwargs':kwargs})\n",
    "\n",
    "seats = pd.DataFrame({'Elettore':['a','b','c'], 'Seggi':[6, 12, 9]})\n",
    "wrapper_fun(f, seggi=seats)"
   ]
  },
  {
   "cell_type": "code",
   "execution_count": null,
   "metadata": {},
   "outputs": [],
   "source": [
    "dir(src.GlobalVars)"
   ]
  },
  {
   "cell_type": "markdown",
   "metadata": {},
   "source": [
    "# Combine"
   ]
  },
  {
   "cell_type": "code",
   "execution_count": 5,
   "metadata": {},
   "outputs": [],
   "source": [
    "df_f = pd.DataFrame({'c':['a','b','c','c'],'l':['a','b','d','e'], 'vl':[10, 20, 8, 7]})\n",
    "df_f2 = pd.DataFrame({'Coalizione':['a','b','c'],'vc':[10,20,15]})\n",
    "df_s = pd.DataFrame({'c':['a','b','c'],'s':[6, 12, 9]})\n",
    "\n",
    "def tes_fun(df, *scalars, **kwargs):\n",
    "    print(\"Argomenti funzione: \", df, scalars, kwargs)\n",
    "    return df\n",
    "\n",
    "src.GlobalVars.tes_fun = tes_fun\n",
    "\n",
    "def rand(*args, **kw):\n",
    "    return random.randint(0, 20)"
   ]
  },
  {
   "cell_type": "code",
   "execution_count": 6,
   "metadata": {},
   "outputs": [
    {
     "data": {
      "text/plain": [
       "<function __main__.tes_fun(df, *scalars, **kwargs)>"
      ]
     },
     "execution_count": 6,
     "metadata": {},
     "output_type": "execute_result"
    }
   ],
   "source": [
    "globals()['tes_fun']"
   ]
  },
  {
   "cell_type": "code",
   "execution_count": 7,
   "metadata": {},
   "outputs": [
    {
     "name": "stdout",
     "output_type": "stream",
     "text": [
      "Parsing conf:  {'args': [{'source': {'columns': ['c -> Coalizione', 'l -> Lista', 'vl -> Voti'], 'name': 'df_f', 'type': 'att'}, 'type': 'dataframe'}, {'source': {'name': 'df_f2', 'type': 'att'}, 'type': 'dataframe'}, {'source': {'name': 'rand', 'type': 'fun'}, 'type': 'scalar'}, {'source': {'columns': ['c -> Coalizione', 's -> Seggi'], 'name': 'df_s', 'type': 'att'}, 'type': 'series'}], 'function': 'src.GlobalVars.tes_fun', 'keys': ['Coalizione'], 'type': 'combine'}\n",
      "prova,  dict_keys(['args', 'function', 'keys', 'type'])\n",
      "Parsing conf:  [{'source': {'columns': ['c -> Coalizione', 'l -> Lista', 'vl -> Voti'], 'name': 'df_f', 'type': 'att'}, 'type': 'dataframe'}, {'source': {'name': 'df_f2', 'type': 'att'}, 'type': 'dataframe'}, {'source': {'name': 'rand', 'type': 'fun'}, 'type': 'scalar'}, {'source': {'columns': ['c -> Coalizione', 's -> Seggi'], 'name': 'df_s', 'type': 'att'}, 'type': 'series'}]\n",
      "Parsing conf:  {'source': {'columns': ['c -> Coalizione', 'l -> Lista', 'vl -> Voti'], 'name': 'df_f', 'type': 'att'}, 'type': 'dataframe'}\n",
      "prova,  dict_keys(['source', 'type'])\n",
      "Parsing conf:  {'columns': ['c -> Coalizione', 'l -> Lista', 'vl -> Voti'], 'name': 'df_f', 'type': 'att'}\n",
      "In source\n",
      "Parsing conf:  dataframe\n",
      "Parsing conf:  {'source': {'name': 'df_f2', 'type': 'att'}, 'type': 'dataframe'}\n",
      "prova,  dict_keys(['source', 'type'])\n",
      "Parsing conf:  {'name': 'df_f2', 'type': 'att'}\n",
      "In source\n",
      "Parsing conf:  dataframe\n",
      "Parsing conf:  {'source': {'name': 'rand', 'type': 'fun'}, 'type': 'scalar'}\n",
      "prova,  dict_keys(['source', 'type'])\n",
      "Parsing conf:  {'name': 'rand', 'type': 'fun'}\n",
      "In source\n",
      "Parsing fun:  rand None None {'type': 'fun'}\n",
      "Parsing conf:  scalar\n",
      "Parsing conf:  {'source': {'columns': ['c -> Coalizione', 's -> Seggi'], 'name': 'df_s', 'type': 'att'}, 'type': 'series'}\n",
      "prova,  dict_keys(['source', 'type'])\n",
      "Parsing conf:  {'columns': ['c -> Coalizione', 's -> Seggi'], 'name': 'df_s', 'type': 'att'}\n",
      "In source\n",
      "Parsing conf:  series\n",
      "Parsing conf:  src.GlobalVars.tes_fun\n",
      "Parsing conf:  ['Coalizione']\n",
      "Parsing conf:  Coalizione\n",
      "Parsing conf:  combine\n"
     ]
    }
   ],
   "source": [
    "conf = {'args': [{'source': {'columns': ['c -> Coalizione',\n",
    "                                                  'l -> Lista',\n",
    "                                                  'vl -> Voti'],\n",
    "                                      'name': 'df_f',\n",
    "                                      'type': 'att'},\n",
    "                           'type': 'dataframe'},\n",
    "                 {'source': {         'name': 'df_f2',\n",
    "                                      'type': 'att'},\n",
    "                           'type': 'dataframe'},\n",
    "                          {'source': {'name': 'rand', 'type': 'fun'},\n",
    "                           'type': 'scalar'},\n",
    "                          {'source': {'columns': ['c -> Coalizione',\n",
    "                                                  's -> Seggi'],\n",
    "                                      'name': 'df_s',\n",
    "                                      'type': 'att'},\n",
    "                           'type': 'series'}],\n",
    "                 'function': 'src.GlobalVars.tes_fun',\n",
    "                 'keys': ['Coalizione'],\n",
    "                 'type': 'combine'}\n",
    "\n",
    "conf = sources_parse.source_parse(conf)\n",
    "comb_tot = src.Metaclasses.totals.parse_combination(**conf)"
   ]
  },
  {
   "cell_type": "code",
   "execution_count": 10,
   "metadata": {},
   "outputs": [
    {
     "data": {
      "text/html": [
       "<div>\n",
       "<style scoped>\n",
       "    .dataframe tbody tr th:only-of-type {\n",
       "        vertical-align: middle;\n",
       "    }\n",
       "\n",
       "    .dataframe tbody tr th {\n",
       "        vertical-align: top;\n",
       "    }\n",
       "\n",
       "    .dataframe thead th {\n",
       "        text-align: right;\n",
       "    }\n",
       "</style>\n",
       "<table border=\"1\" class=\"dataframe\">\n",
       "  <thead>\n",
       "    <tr style=\"text-align: right;\">\n",
       "      <th></th>\n",
       "      <th>Coalizione</th>\n",
       "      <th>vc</th>\n",
       "    </tr>\n",
       "  </thead>\n",
       "  <tbody>\n",
       "    <tr>\n",
       "      <th>0</th>\n",
       "      <td>a</td>\n",
       "      <td>10</td>\n",
       "    </tr>\n",
       "    <tr>\n",
       "      <th>1</th>\n",
       "      <td>b</td>\n",
       "      <td>20</td>\n",
       "    </tr>\n",
       "    <tr>\n",
       "      <th>2</th>\n",
       "      <td>c</td>\n",
       "      <td>15</td>\n",
       "    </tr>\n",
       "  </tbody>\n",
       "</table>\n",
       "</div>"
      ],
      "text/plain": [
       "  Coalizione  vc\n",
       "0          a  10\n",
       "1          b  20\n",
       "2          c  15"
      ]
     },
     "execution_count": 10,
     "metadata": {},
     "output_type": "execute_result"
    }
   ],
   "source": [
    "df_f2"
   ]
  },
  {
   "cell_type": "code",
   "execution_count": 8,
   "metadata": {},
   "outputs": [
    {
     "name": "stdout",
     "output_type": "stream",
     "text": [
      "Locals prima di trovare l'attributo:  {'df_f':    c  l  vl\n",
      "0  a  a  10\n",
      "1  b  b  20\n",
      "2  c  d   8\n",
      "3  c  e   7, 'df_f2':   Coalizione  vc\n",
      "0          a  10\n",
      "1          b  20\n",
      "2          c  15, 'df_s':    c   s\n",
      "0  a   6\n",
      "1  b  12\n",
      "2  c   9, 'rand': <function rand at 0x7f0df4f89940>}\n",
      "Locals prima di trovare l'attributo:  {'df_f':    c  l  vl\n",
      "0  a  a  10\n",
      "1  b  b  20\n",
      "2  c  d   8\n",
      "3  c  e   7, 'df_f2':   Coalizione  vc\n",
      "0          a  10\n",
      "1          b  20\n",
      "2          c  15, 'df_s':    c   s\n",
      "0  a   6\n",
      "1  b  12\n",
      "2  c   9, 'rand': <function rand at 0x7f0df4f89940>}\n",
      "Locals prima di trovare l'attributo:  {'df_f':    c  l  vl\n",
      "0  a  a  10\n",
      "1  b  b  20\n",
      "2  c  d   8\n",
      "3  c  e   7, 'df_f2':   Coalizione  vc\n",
      "0          a  10\n",
      "1          b  20\n",
      "2          c  15, 'df_s':    c   s\n",
      "0  a   6\n",
      "1  b  12\n",
      "2  c   9, 'rand': <function rand at 0x7f0df4f89940>}\n",
      "ret_fun_parse: []\n",
      "Locals prima di cercare la funzione:  {'df_f':    c  l  vl\n",
      "0  a  a  10\n",
      "1  b  b  20\n",
      "2  c  d   8\n",
      "3  c  e   7, 'df_f2':   Coalizione  vc\n",
      "0          a  10\n",
      "1          b  20\n",
      "2          c  15, 'df_s':    c   s\n",
      "0  a   6\n",
      "1  b  12\n",
      "2  c   9, 'rand': <function rand at 0x7f0df4f89940>}\n",
      "Cerco funzione:  rand\n",
      "<function rand at 0x7f0df4f89940>\n",
      "Ops arguments:  [  Coalizione Lista  Voti\n",
      "0          a     a    10\n",
      "1          b     b    20\n",
      "2          c     d     8\n",
      "3          c     e     7,   Coalizione  vc\n",
      "0          a  10\n",
      "1          b  20\n",
      "2          c  15] [  Coalizione  Seggi\n",
      "0          a      6\n",
      "1          b     12\n",
      "2          c      9] [4]\n",
      "Argomenti funzione:    Coalizione Lista  Voti  vc\n",
      "0          a     a    10  10 (4,) {'Seggi': 6}\n",
      "Argomenti funzione:    Coalizione Lista  Voti  vc\n",
      "1          b     b    20  20 (4,) {'Seggi': 12}\n",
      "Argomenti funzione:    Coalizione Lista  Voti  vc\n",
      "2          c     d     8  15\n",
      "3          c     e     7  15 (4,) {'Seggi': 9}\n"
     ]
    },
    {
     "data": {
      "text/html": [
       "<div>\n",
       "<style scoped>\n",
       "    .dataframe tbody tr th:only-of-type {\n",
       "        vertical-align: middle;\n",
       "    }\n",
       "\n",
       "    .dataframe tbody tr th {\n",
       "        vertical-align: top;\n",
       "    }\n",
       "\n",
       "    .dataframe thead th {\n",
       "        text-align: right;\n",
       "    }\n",
       "</style>\n",
       "<table border=\"1\" class=\"dataframe\">\n",
       "  <thead>\n",
       "    <tr style=\"text-align: right;\">\n",
       "      <th></th>\n",
       "      <th>Coalizione</th>\n",
       "      <th>Lista</th>\n",
       "      <th>Voti</th>\n",
       "      <th>vc</th>\n",
       "    </tr>\n",
       "  </thead>\n",
       "  <tbody>\n",
       "    <tr>\n",
       "      <th>0</th>\n",
       "      <td>a</td>\n",
       "      <td>a</td>\n",
       "      <td>10</td>\n",
       "      <td>10</td>\n",
       "    </tr>\n",
       "    <tr>\n",
       "      <th>1</th>\n",
       "      <td>b</td>\n",
       "      <td>b</td>\n",
       "      <td>20</td>\n",
       "      <td>20</td>\n",
       "    </tr>\n",
       "    <tr>\n",
       "      <th>2</th>\n",
       "      <td>c</td>\n",
       "      <td>d</td>\n",
       "      <td>8</td>\n",
       "      <td>15</td>\n",
       "    </tr>\n",
       "    <tr>\n",
       "      <th>3</th>\n",
       "      <td>c</td>\n",
       "      <td>e</td>\n",
       "      <td>7</td>\n",
       "      <td>15</td>\n",
       "    </tr>\n",
       "  </tbody>\n",
       "</table>\n",
       "</div>"
      ],
      "text/plain": [
       "  Coalizione Lista  Voti  vc\n",
       "0          a     a    10  10\n",
       "1          b     b    20  20\n",
       "2          c     d     8  15\n",
       "3          c     e     7  15"
      ]
     },
     "execution_count": 8,
     "metadata": {},
     "output_type": "execute_result"
    }
   ],
   "source": [
    "comb_tot({'df_f':df_f, 'df_f2':df_f2, 'df_s':df_s, 'rand':rand}, 'args1')"
   ]
  },
  {
   "cell_type": "markdown",
   "metadata": {},
   "source": [
    "# Transform functions"
   ]
  },
  {
   "cell_type": "code",
   "execution_count": null,
   "metadata": {},
   "outputs": [],
   "source": [
    "def line_tr(**kwargs):\n",
    "    print(\"Line tr: \", kwargs)\n",
    "    return sum(kwargs.values())\n",
    "\n",
    "def test_replace(*args, data, **kwargs):\n",
    "    print(\"Test replace: \", args, data)\n",
    "    return pd.DataFrame({'a':[1,2],'b':[3,4]})"
   ]
  },
  {
   "cell_type": "markdown",
   "metadata": {},
   "source": [
    "# Transform overall"
   ]
  },
  {
   "cell_type": "code",
   "execution_count": null,
   "metadata": {},
   "outputs": [],
   "source": [
    "df = pd.DataFrame({'a':[1,1,2],\n",
    "                                                                    'b':[2,3,4],\n",
    "                                                                    'c':[5,6,7]\n",
    "                                                                   })"
   ]
  },
  {
   "cell_type": "code",
   "execution_count": null,
   "metadata": {},
   "outputs": [],
   "source": [
    "conf = {'ops': [{'source': {'name': 'test_replace', 'type': 'fun'},\n",
    "          'type': 'dataframe'},\n",
    "         {'column': 'a',\n",
    "          'replace_name': 'b',\n",
    "          'source': {'args': ['real'], 'name': 'getattr', 'type': 'fun'},\n",
    "          'type': 'column'},\n",
    "         {'column_name': 'somma',\n",
    "          'source': {'name': 'line_tr', 'type': 'fun'},\n",
    "          'type': 'line'}],\n",
    " 'source': {'name': 'df', 'type': 'att'}}\n",
    "conf = sources_parse.source_parse(conf)\n",
    "src.Metaclasses.totals.parse_transform(**conf)"
   ]
  },
  {
   "cell_type": "code",
   "execution_count": null,
   "metadata": {},
   "outputs": [],
   "source": [
    "src.Metaclasses.totals.parse_transform(**conf)({'df':df, \n",
    "                                                'line_tr':line_tr,\n",
    "                                                'test_replace': test_replace}, \n",
    "                                               'sbarramento')"
   ]
  },
  {
   "cell_type": "markdown",
   "metadata": {},
   "source": [
    "# Transform op line"
   ]
  },
  {
   "cell_type": "code",
   "execution_count": null,
   "metadata": {},
   "outputs": [],
   "source": [
    "df = pd.DataFrame({'a':[1,1,2],\n",
    "                                                                    'b':[2,3,4],\n",
    "                                                                    'c':[5,6,7]\n",
    "                                                                   })\n",
    "conf = {'column_name': 'somma', 'source': {'name': 'line_tr', 'type': 'fun'}}\n",
    "conf = sources_parse.source_parse(conf)\n",
    "src.Metaclasses.totals.parse_transform_op_lin(**conf)({'line_tr':line_tr}, \n",
    "                                                      df)"
   ]
  },
  {
   "cell_type": "markdown",
   "metadata": {},
   "source": [
    "# Transform op column"
   ]
  },
  {
   "cell_type": "markdown",
   "metadata": {},
   "source": [
    "### Test getattr"
   ]
  },
  {
   "cell_type": "code",
   "execution_count": null,
   "metadata": {},
   "outputs": [],
   "source": [
    "conf = {'column': 'a',\n",
    " 'replace_name': 'b',\n",
    " 'source': {'args': ['imag'], 'name': 'getattr', 'type': 'fun'}}\n",
    "conf = sources_parse.source_parse(conf)\n",
    "src.Metaclasses.totals.parse_transform_op_col(**conf)({}, pd.DataFrame({'a':[1,1.0,2.0]}))"
   ]
  },
  {
   "cell_type": "markdown",
   "metadata": {},
   "source": [
    "# Transform df test"
   ]
  },
  {
   "cell_type": "code",
   "execution_count": null,
   "metadata": {},
   "outputs": [],
   "source": [
    "conf = {'source': {'name': 'test_replace', 'type': 'fun'}}\n",
    "\n",
    "conf = sources_parse.source_parse(conf)"
   ]
  },
  {
   "cell_type": "code",
   "execution_count": null,
   "metadata": {},
   "outputs": [],
   "source": [
    "transf = src.Metaclasses.totals.parse_transform_op_df(**conf)\n",
    "transf({'test_replace':test_replace}, pd.DataFrame({'a':[0]}))"
   ]
  },
  {
   "cell_type": "markdown",
   "metadata": {},
   "source": [
    "# Aggregate\n",
    "\n",
    "Test di parse aggregate"
   ]
  },
  {
   "cell_type": "code",
   "execution_count": null,
   "metadata": {},
   "outputs": [],
   "source": [
    "def sum_mine(*args, **kwargs):\n",
    "    print(\"Sum mine: \", args, kwargs)\n",
    "src.GlobalVars.sum_mine = sum_mine"
   ]
  },
  {
   "cell_type": "code",
   "execution_count": null,
   "metadata": {},
   "outputs": [],
   "source": [
    "conf = {'keys': ['Lista'],\n",
    " 'ops': {'Part': 'src.GlobalVars.sum_mine', 'Voti': 'sum'},\n",
    " 'source': {'name': 'example_source', 'type': 'fun'},\n",
    " 'type': 'aggregate'}\n",
    "conf = sources_parse.source_parse(conf)"
   ]
  },
  {
   "cell_type": "code",
   "execution_count": null,
   "metadata": {},
   "outputs": [],
   "source": [
    "agg = totals.parse_aggregate(**conf)"
   ]
  },
  {
   "cell_type": "code",
   "execution_count": null,
   "metadata": {},
   "outputs": [],
   "source": [
    "agg"
   ]
  },
  {
   "cell_type": "code",
   "execution_count": null,
   "metadata": {},
   "outputs": [],
   "source": [
    "def example_source(*args, **kwargs):\n",
    "    print(\"Example source: \", args, kwargs)\n",
    "    return pd.DataFrame({'Lista':['a','b','a','b'],'Voti':[1,4,3,4], \n",
    "                         'Part':['a','b','c','d']})\n",
    "\n",
    "example_source()"
   ]
  },
  {
   "cell_type": "code",
   "execution_count": null,
   "metadata": {},
   "outputs": [],
   "source": [
    "r = agg({'example_source':example_source},1,2,ex1='a')"
   ]
  },
  {
   "cell_type": "code",
   "execution_count": null,
   "metadata": {
    "scrolled": true
   },
   "outputs": [],
   "source": [
    "r"
   ]
  },
  {
   "cell_type": "code",
   "execution_count": null,
   "metadata": {},
   "outputs": [],
   "source": []
  }
 ],
 "metadata": {
  "kernelspec": {
   "display_name": "Python 3",
   "language": "python",
   "name": "python3"
  },
  "language_info": {
   "codemirror_mode": {
    "name": "ipython",
    "version": 3
   },
   "file_extension": ".py",
   "mimetype": "text/x-python",
   "name": "python",
   "nbconvert_exporter": "python",
   "pygments_lexer": "ipython3",
   "version": "3.8.1"
  },
  "pycharm": {
   "stem_cell": {
    "cell_type": "raw",
    "source": [],
    "metadata": {
     "collapsed": false
    }
   }
  }
 },
 "nbformat": 4,
 "nbformat_minor": 2
}